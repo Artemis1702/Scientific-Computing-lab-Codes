{
  "nbformat": 4,
  "nbformat_minor": 0,
  "metadata": {
    "colab": {
      "provenance": []
    },
    "kernelspec": {
      "name": "python3",
      "display_name": "Python 3"
    },
    "language_info": {
      "name": "python"
    }
  },
  "cells": [
    {
      "cell_type": "markdown",
      "source": [
        "### **Q1**"
      ],
      "metadata": {
        "id": "f7asvlF9cVmO"
      }
    },
    {
      "cell_type": "markdown",
      "source": [
        "**Taylor Series Method**\n",
        "\n",
        "[*Source*](https://atozmath.com/example/CONM/RungeKutta.aspx?q=ts&m=1&q1=E1)"
      ],
      "metadata": {
        "id": "Ysd-_rppcYEl"
      }
    },
    {
      "cell_type": "code",
      "execution_count": null,
      "metadata": {
        "id": "vjL68UetcSKG"
      },
      "outputs": [],
      "source": [
        "from sympy import *\n",
        "x, y = symbols('x y')\n",
        "f = Function('f')(x)\n",
        "y = f"
      ]
    },
    {
      "cell_type": "code",
      "source": [
        "def fact(n):\n",
        "    factorial = 1\n",
        "    for i in range(1, n + 1):\n",
        "        factorial *= i\n",
        "    return factorial\n",
        "\n",
        "def taylor_series(y_diff, x0, y0, h):\n",
        "    sum = 0\n",
        "    for i in range(5):\n",
        "        print(y_diff)\n",
        "        sum += (h ** \n",
        "                i) * y_diff.subs(x, x0).subs(y, y0) / fact(i)\n",
        "        y_diff = diff(y_diff, x)\n",
        "    return sum"
      ],
      "metadata": {
        "id": "K3M8Gr1udTvc"
      },
      "execution_count": null,
      "outputs": []
    },
    {
      "cell_type": "code",
      "source": [
        "y_diff = x ** 2 * y - 1\n",
        "x0 = 0\n",
        "y0 = 1\n",
        "h = 0.1\n",
        "Y = 0.2\n",
        "\n",
        "# taylor_series(y_diff, x0, y0, h)\n",
        "print(taylor_series(y_diff, x0, y0, h))"
      ],
      "metadata": {
        "colab": {
          "base_uri": "https://localhost:8080/"
        },
        "id": "C8VA2odeczxV",
        "outputId": "a048fd62-b28e-4ea6-9ff5-ceefd7b55f3b"
      },
      "execution_count": null,
      "outputs": [
        {
          "output_type": "stream",
          "name": "stdout",
          "text": [
            "x**2*f(x) - 1\n",
            "x**2*Derivative(f(x), x) + 2*x*f(x)\n",
            "x**2*Derivative(f(x), (x, 2)) + 4*x*Derivative(f(x), x) + 2*f(x)\n",
            "x**2*Derivative(f(x), (x, 3)) + 6*x*Derivative(f(x), (x, 2)) + 6*Derivative(f(x), x)\n",
            "x**2*Derivative(f(x), (x, 4)) + 8*x*Derivative(f(x), (x, 3)) + 12*Derivative(f(x), (x, 2))\n",
            "0.01*f(0) + 0.001*Subs(Derivative(1, x), x, 0) + 5.0e-5*Subs(Derivative(1, (x, 2)), x, 0) - 1.0\n"
          ]
        }
      ]
    },
    {
      "cell_type": "code",
      "source": [
        "def fact(n):\n",
        "    factorial = 1\n",
        "    for i in range(1, n + 1):\n",
        "        factorial *= i\n",
        "    return factorial\n",
        "\n",
        "from sympy import *\n",
        "x, y = symbols('x y')\n",
        "f = Function('f')(x)\n",
        "y_diff = x ** 2 * y - 1\n",
        "x0 = 0\n",
        "y0 = 1\n",
        "h = 0.1\n",
        "Y = 0.2\n",
        "\n",
        "eq = diff(y_diff, x)\n",
        "eq = eq.subs(x, x0)\n",
        "eq = eq.subs(Derivative(y, x), 7)\n",
        "eq = eq.subs(y, y0)\n",
        "sum = 0\n",
        "sum2 = 0\n",
        "\n",
        "for i in range(5):\n",
        "    sum += (h ** i) * y_diff.subs(x, x0).subs(y, y0) / fact(i)\n",
        "    sum2 += (h ** i) * y_diff.subs(x, x0).subs(Derivative(y, x), y0) / fact(i)\n",
        "    y_diff = diff(y_diff, x)"
      ],
      "metadata": {
        "colab": {
          "base_uri": "https://localhost:8080/"
        },
        "id": "V0pKSsdiO0BJ",
        "outputId": "6b5b5a92-df75-4aaa-b3ad-0f4fe64eeb6d"
      },
      "execution_count": null,
      "outputs": [
        {
          "output_type": "stream",
          "name": "stdout",
          "text": [
            "-0.990000000000000\n",
            "0.01*y - 1.0\n"
          ]
        }
      ]
    },
    {
      "cell_type": "markdown",
      "source": [
        "### **Q2**"
      ],
      "metadata": {
        "id": "XQHm-IJnoF7j"
      }
    },
    {
      "cell_type": "markdown",
      "source": [
        "**Euler's Method**\n",
        "\n",
        "[*Source*](https://atozmath.com/example/CONM/RungeKutta.aspx?q=euler&m=1&q1=E1)"
      ],
      "metadata": {
        "id": "LjD-yO4ioJWj"
      }
    },
    {
      "cell_type": "code",
      "source": [
        "import math\n",
        "from sympy import *\n",
        "x, y = symbols('x y')"
      ],
      "metadata": {
        "id": "F8ArIv3CoMPL"
      },
      "execution_count": null,
      "outputs": []
    },
    {
      "cell_type": "code",
      "source": [
        "y_diff = (x - y) / 2\n",
        "x0 = 0\n",
        "y0 = 1\n",
        "h = 0.1\n",
        "X_ = 0.2\n",
        "X = x0\n",
        "Y = y0\n",
        "\n",
        "while not math.isclose(X, X_):\n",
        "    Y = Y + h * y_diff.subs(x, X).subs(y, Y)\n",
        "    X += h\n",
        "print(Y)"
      ],
      "metadata": {
        "colab": {
          "base_uri": "https://localhost:8080/"
        },
        "id": "-xJjfuCbobUa",
        "outputId": "aa0184ff-0fbe-438f-8c0c-6aa45107e94c"
      },
      "execution_count": null,
      "outputs": [
        {
          "output_type": "stream",
          "name": "stdout",
          "text": [
            "0.907500000000000\n"
          ]
        }
      ]
    },
    {
      "cell_type": "markdown",
      "source": [
        "### **Q3**"
      ],
      "metadata": {
        "id": "E9wJjL8hqmjI"
      }
    },
    {
      "cell_type": "markdown",
      "source": [
        "**Modified Euler's Method**\n",
        "\n",
        "[*Source*](https://atozmath.com/example/CONM/RungeKutta.aspx?q=meuler&m=1&q1=E1)"
      ],
      "metadata": {
        "id": "Zy6AwOkfqo33"
      }
    },
    {
      "cell_type": "code",
      "source": [
        "import math\n",
        "from sympy import *\n",
        "x, y = symbols('x y')"
      ],
      "metadata": {
        "id": "bnvl-Mtqq0IA"
      },
      "execution_count": null,
      "outputs": []
    },
    {
      "cell_type": "code",
      "source": [
        "y_diff = (x - y) / 2\n",
        "x0 = 0\n",
        "y0 = 1\n",
        "h = 0.1\n",
        "X_ = 0.2\n",
        "X = x0\n",
        "Y = y0\n",
        "\n",
        "while not math.isclose(X, X_):\n",
        "    Y = Y + h * y_diff.subs(x, X + 0.5 * h).subs(y, Y + 0.5 * h * y_diff.subs(x, X).subs(y, Y))\n",
        "    X += h\n",
        "print(Y)"
      ],
      "metadata": {
        "colab": {
          "base_uri": "https://localhost:8080/"
        },
        "id": "pzWJiSALq3SA",
        "outputId": "14941e75-899b-4808-e64c-8592bda2387b"
      },
      "execution_count": null,
      "outputs": [
        {
          "output_type": "stream",
          "name": "stdout",
          "text": [
            "0.914629687500000\n"
          ]
        }
      ]
    },
    {
      "cell_type": "markdown",
      "source": [
        "### **Q4**"
      ],
      "metadata": {
        "id": "7iUlx2DCrQwh"
      }
    },
    {
      "cell_type": "markdown",
      "source": [
        "**Runge-Kutta Method of Third Order**\n",
        "\n",
        "[*Source*](https://atozmath.com/example/CONM/RungeKutta.aspx?q=rk3&m=1&q1=E1)"
      ],
      "metadata": {
        "id": "26GZ0HhHrSUg"
      }
    },
    {
      "cell_type": "code",
      "source": [
        "import math\n",
        "from sympy import *\n",
        "x, y = symbols('x y')"
      ],
      "metadata": {
        "id": "jbV2Ynh8rlCJ"
      },
      "execution_count": null,
      "outputs": []
    },
    {
      "cell_type": "code",
      "source": [
        "y_diff = (x - y) / 2\n",
        "x0 = 0\n",
        "y0 = 1\n",
        "h = 0.1\n",
        "X_ = 0.2\n",
        "X = x0\n",
        "Y = y0\n",
        "\n",
        "while not math.isclose(X, X_):\n",
        "    k1 = h * y_diff.subs(x, X).subs(y, Y)\n",
        "    k2 = h * y_diff.subs(x, X + h / 2).subs(y, Y + k1 / 2)\n",
        "    k3 = h * y_diff.subs(x, X + h).subs(y, Y + 2 * k2 - k1)\n",
        "    Y = Y + (k1 + 4 * k2 + k3) / 6\n",
        "    X += h\n",
        "\n",
        "print(Y)"
      ],
      "metadata": {
        "colab": {
          "base_uri": "https://localhost:8080/"
        },
        "id": "qIWhi5ZtriDI",
        "outputId": "d5befb5f-82d7-4a4f-cb27-0524c62f6bae"
      },
      "execution_count": null,
      "outputs": [
        {
          "output_type": "stream",
          "name": "stdout",
          "text": [
            "0.914510782552083\n"
          ]
        }
      ]
    },
    {
      "cell_type": "markdown",
      "source": [
        "### **Q5**"
      ],
      "metadata": {
        "id": "15eCug9isl7Z"
      }
    },
    {
      "cell_type": "markdown",
      "source": [
        "**Runge-Kutta Method of Fourth Order**\n",
        "\n",
        "[*Source*](https://atozmath.com/example/CONM/RungeKutta.aspx?q=rk4&m=1&q1=E1)"
      ],
      "metadata": {
        "id": "Rjk3ZtUPsn2q"
      }
    },
    {
      "cell_type": "code",
      "source": [
        "from sympy import *\n",
        "x, y = symbols('x y')"
      ],
      "metadata": {
        "id": "EdoJTHyls1aK"
      },
      "execution_count": null,
      "outputs": []
    },
    {
      "cell_type": "code",
      "source": [
        "y_diff = (x - y) / 2\n",
        "x0 = 0\n",
        "y0 = 1\n",
        "h = 0.1\n",
        "X_ = 0.2\n",
        "X = x0\n",
        "Y = y0\n",
        "\n",
        "while X != X_:\n",
        "    k1 = h * y_diff.subs(x, X).subs(y, Y)\n",
        "    k2 = h * y_diff.subs(x, X + h / 2).subs(y, Y + k1 / 2)\n",
        "    k3 = h * y_diff.subs(x, X + h / 2).subs(y, Y + k2 / 2)\n",
        "    k4 = h * y_diff.subs(x, X + h).subs(y, Y + k3)\n",
        "    Y = Y + (k1 + 2 * k2 + 2 * k3 + k4) / 6\n",
        "    X += h\n",
        "\n",
        "print(Y)"
      ],
      "metadata": {
        "colab": {
          "base_uri": "https://localhost:8080/"
        },
        "id": "yRFFik1ws3_K",
        "outputId": "3ac204bf-c36b-4a2c-9237-35f3b802b860"
      },
      "execution_count": null,
      "outputs": [
        {
          "output_type": "stream",
          "name": "stdout",
          "text": [
            "0.914512268847860\n"
          ]
        }
      ]
    }
  ]
}