{
  "cells": [
    {
      "cell_type": "markdown",
      "metadata": {
        "id": "u-bQvF4cfQGP"
      },
      "source": [
        "### **Linear Interpolation**"
      ]
    },
    {
      "cell_type": "code",
      "execution_count": null,
      "metadata": {
        "colab": {
          "base_uri": "https://localhost:8080/"
        },
        "id": "CzlJ7KTsfY5V",
        "outputId": "be665d79-607c-43b5-f24d-f2d075183872"
      },
      "outputs": [
        {
          "output_type": "stream",
          "name": "stdout",
          "text": [
            "-5.0\n"
          ]
        }
      ],
      "source": [
        "# a)\n",
        "x1 = -1\n",
        "y1 = -8\n",
        "x2 = 2\n",
        "y2 = 1\n",
        "x = 0\n",
        "\n",
        "# # b)\n",
        "# x1 = 3\n",
        "# y1 = 6\n",
        "# x2 = 7\n",
        "# y2 = 58\n",
        "# x = 5\n",
        "\n",
        "# # c)\n",
        "# x1 = 5\n",
        "# y1 = 12\n",
        "# x2 = 9\n",
        "# y2 = 15\n",
        "# x = 6\n",
        "\n",
        "y = y1 + (x - x1) * (y2 - y1) / (x2 - x1)\n",
        "\n",
        "print(y)"
      ]
    },
    {
      "cell_type": "markdown",
      "metadata": {
        "id": "DwaPA1F7k2oz"
      },
      "source": [
        "### **Quadratic Interpolation**\n",
        "(Langrage's Interpolation)"
      ]
    },
    {
      "cell_type": "code",
      "execution_count": null,
      "metadata": {
        "colab": {
          "base_uri": "https://localhost:8080/"
        },
        "id": "cSSMQjNok6Xl",
        "outputId": "d3fec777-20e4-457f-925d-fa0a3a04af39"
      },
      "outputs": [
        {
          "output_type": "stream",
          "name": "stdout",
          "text": [
            "(2.75, 722.9375)\n"
          ]
        }
      ],
      "source": [
        "# a)\n",
        "x = [0, 2, 3]\n",
        "y = [659, 705, 729]\n",
        "x0 = 2.75\n",
        "\n",
        "y0 = ((x0 - x[1]) * (x0 - x[2])) / ((x[0] - x[1]) * (x[0] - x[2])) * y[0] + ((x0 - x[0]) * (x0 - x[2])) / ((x[1] - x[0]) * (x[1] - x[2])) * y[1] + ((x0 - x[0]) * (x0 - x[1])) / ((x[2] - x[0]) * (x[2] - x[1])) * y[2]\n",
        "\n",
        "print(\"(\", x0, \", \", y0, \")\", sep = \"\")"
      ]
    },
    {
      "cell_type": "markdown",
      "metadata": {
        "id": "dOgEdX0hUxii"
      },
      "source": [
        "### **Equation of Parabola**"
      ]
    },
    {
      "cell_type": "code",
      "execution_count": null,
      "metadata": {
        "id": "L27KM8COU0Ui"
      },
      "outputs": [],
      "source": [
        "from sympy import *"
      ]
    },
    {
      "cell_type": "code",
      "execution_count": null,
      "metadata": {
        "colab": {
          "base_uri": "https://localhost:8080/"
        },
        "id": "yb4wcy5GVEkR",
        "outputId": "630f8a23-ae3a-4806-e81d-5f8f301fd5d1"
      },
      "outputs": [
        {
          "output_type": "stream",
          "name": "stdout",
          "text": [
            "Eq(-9*x**2 + 8*x + y, 0)\n"
          ]
        }
      ],
      "source": [
        "x, y, a, b, c = symbols('x y a b c')\n",
        "parabola = Eq(y - a * x ** 2 - b * x - c, 0)\n",
        "\n",
        "X = [0, 1, 2]\n",
        "Y= [0, 1, 20]\n",
        "\n",
        "eq1 = parabola.subs(x, X[0]).subs(y, Y[0])\n",
        "eq2 = parabola.subs(x, X[1]).subs(y, Y[1])\n",
        "eq3 = parabola.subs(x, X[2]).subs(y, Y[2])\n",
        "\n",
        "solution = list(linsolve([eq1, eq2, eq3], (a, b, c)))[0]\n",
        "\n",
        "parabola = parabola.subs(a, solution[0]).subs(b, solution[1]).subs(c, solution[2])\n",
        "\n",
        "print(parabola)"
      ]
    },
    {
      "cell_type": "markdown",
      "metadata": {
        "id": "zTCYzYeSXWG2"
      },
      "source": [
        "### **Newton's Divided Difference Interpolation Method**"
      ]
    },
    {
      "cell_type": "code",
      "execution_count": null,
      "metadata": {
        "colab": {
          "base_uri": "https://localhost:8080/"
        },
        "id": "8ymRKYRLXbpd",
        "outputId": "a5701794-08e5-4738-aff2-197569652c70"
      },
      "outputs": [
        {
          "output_type": "stream",
          "name": "stdout",
          "text": [
            "Divided Difference Table:\n",
            "[[2.8156, 2.8182, 2.8189, 2.8202], [0.0006500000000000394, 0.000700000000000145, 0.0006499999999998174], [1.0000000000021104e-05, -1.6666666666775853e-05], [-3.8095238095424225e-06]]\n",
            "\n",
            "(656, 2.816814285714285)\n"
          ]
        }
      ],
      "source": [
        "x = [654, 658, 659, 661]\n",
        "y = [2.8156, 2.8182, 2.8189, 2.8202]\n",
        "X = 656\n",
        "\n",
        "# x = [300, 304, 305, 307]\n",
        "# y = [2.4771, 2.4829, 2.4843, 2.4871]\n",
        "# X = 301\n",
        "\n",
        "n = len(x)\n",
        "m = n\n",
        "table = []\n",
        "table.append(y)\n",
        "\n",
        "for i in range(n - 1):\n",
        "    values = []\n",
        "    for j in range(m - 1):\n",
        "        values.append((table[i][j + 1] - table[i][j]) / (x[j + i + 1] - x[j]))\n",
        "    table.append(values)\n",
        "    m -= 1\n",
        "\n",
        "Y = 0\n",
        "for i in range(n):\n",
        "    temp = table[i][0]\n",
        "    for j in range(i):\n",
        "        temp *= (X - x[j])\n",
        "    Y += temp\n",
        "\n",
        "print(\"Divided Difference Table:\")\n",
        "print(table)\n",
        "print(\"\\n(\", X, \", \", Y, \")\", sep = \"\")\n"
      ]
    },
    {
      "cell_type": "markdown",
      "source": [
        "### **Q5**"
      ],
      "metadata": {
        "id": "b95CD96qWnqf"
      }
    },
    {
      "cell_type": "code",
      "source": [
        "def newtonInterpolate(x, y, X):\n",
        "    n = len(x)\n",
        "    m = n\n",
        "    table = []\n",
        "    table.append(y)\n",
        "\n",
        "    for i in range(n - 1):\n",
        "        values = []\n",
        "        for j in range(m - 1):\n",
        "            values.append((table[i][j + 1] - table[i][j]) / (x[j + i + 1] - x[j]))\n",
        "        table.append(values)\n",
        "        m -= 1\n",
        "\n",
        "    Y = 0\n",
        "    for i in range(n):\n",
        "        temp = table[i][0]\n",
        "        for j in range(i):\n",
        "            temp *= (X - x[j])\n",
        "        Y += temp\n",
        "\n",
        "    return Y"
      ],
      "metadata": {
        "id": "scORORLoW3dg"
      },
      "execution_count": null,
      "outputs": []
    },
    {
      "cell_type": "code",
      "source": [
        "x = [45, 50, 55, 60, 65]\n",
        "y = [114.84, 96.16, 83.32, 74.48, 68.48]\n",
        "\n",
        "print(\"The premium for policies maturing at age 46 is\", newtonInterpolate(x, y, 46))\n",
        "print(\"The premium for policies maturing at age 63 is\", newtonInterpolate(x, y, 63))"
      ],
      "metadata": {
        "colab": {
          "base_uri": "https://localhost:8080/"
        },
        "id": "ssLqCaCiWpq-",
        "outputId": "9dcb7e60-45cb-461b-9c6d-4aea121eaf55"
      },
      "execution_count": null,
      "outputs": [
        {
          "output_type": "stream",
          "name": "stdout",
          "text": [
            "The premium for policies maturing at age 46 is 110.525632\n",
            "The premium for policies maturing at age 63 is 70.58515200000001\n"
          ]
        }
      ]
    },
    {
      "cell_type": "code",
      "source": [],
      "metadata": {
        "id": "lJ4eVbdUETmw"
      },
      "execution_count": null,
      "outputs": []
    }
  ],
  "metadata": {
    "colab": {
      "provenance": []
    },
    "kernelspec": {
      "display_name": "Python 3",
      "name": "python3"
    },
    "language_info": {
      "name": "python"
    }
  },
  "nbformat": 4,
  "nbformat_minor": 0
}