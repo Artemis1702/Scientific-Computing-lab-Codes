{
  "nbformat": 4,
  "nbformat_minor": 0,
  "metadata": {
    "colab": {
      "provenance": []
    },
    "kernelspec": {
      "name": "python3",
      "display_name": "Python 3"
    },
    "language_info": {
      "name": "python"
    }
  },
  "cells": [
    {
      "cell_type": "markdown",
      "source": [
        "**Newton's Divided Difference Interpolation**\n",
        "\n",
        "[Theory](https://atozmath.com/example/CONM/NumeInterPola.aspx?q=DD&q1=E1)"
      ],
      "metadata": {
        "id": "zGdFMvZD2trk"
      }
    },
    {
      "cell_type": "code",
      "execution_count": null,
      "metadata": {
        "colab": {
          "base_uri": "https://localhost:8080/"
        },
        "id": "AZB9jz7l2lrK",
        "outputId": "4d741e21-c06b-4e24-eab1-fd8a531202cf"
      },
      "outputs": [
        {
          "output_type": "stream",
          "name": "stdout",
          "text": [
            "2.4785971428571423\n",
            "[[2.4771, 2.4829, 2.4843, 2.4871], [0.0014499999999999513, 0.00140000000000029, 0.0013999999999998458], [-9.999999999932286e-06, -1.4802973661668753e-16], [1.428571428540608e-06]]\n"
          ]
        }
      ],
      "source": [
        "x = [300, 304, 305, 307]\n",
        "y = [2.4771, 2.4829, 2.4843, 2.4871]\n",
        "X = 301\n",
        "\n",
        "n = len(x)\n",
        "table = []\n",
        "table.append(y)\n",
        "\n",
        "for i in range(n - 1):\n",
        "    values = []\n",
        "    for j in range(len(table[i]) - 1):\n",
        "        value = (table[i][j + 1] - table[i][j]) / (x[j + i + 1] - x[j])\n",
        "        values.append(value)\n",
        "    table.append(values)\n",
        "\n",
        "Y = 0\n",
        "\n",
        "for i in range(len(table)):\n",
        "    prod = 1\n",
        "    for j in range(i):\n",
        "        prod *= (X - x[j])\n",
        "    Y += prod * table[i][0]\n",
        "\n",
        "print(Y)\n",
        "print(table)"
      ]
    },
    {
      "cell_type": "markdown",
      "source": [
        "**Cubic Spline Interpolation**\n",
        "\n",
        "[Theory](https://atozmath.com/example/CONM/CubicSpline.aspx?q1=E1)"
      ],
      "metadata": {
        "id": "cImKA9--6HWn"
      }
    },
    {
      "cell_type": "code",
      "source": [
        "from sympy import *"
      ],
      "metadata": {
        "id": "YYnu8iOn-W1G"
      },
      "execution_count": null,
      "outputs": []
    },
    {
      "cell_type": "code",
      "source": [
        "x = [1, 2, 3, 4]\n",
        "y = [1, 5, 11, 8]\n",
        "X0 = 1.5\n",
        "\n",
        "h = x[1] - x[0]\n",
        "n = len(x) - 1\n",
        "X = symbols('X')\n",
        "m = symbols('m0:%d' % (n + 1))\n",
        "M = {0: 0, n: 0}\n",
        "expr = []\n",
        "\n",
        "for i in range(1, n):\n",
        "    expr.append(m[i - 1] + 4 * m[i] + m[i + 1] - 6 * (y[i - 1] - 2 * y[i] + y[i + 1]) / h ** 2)\n",
        "    for j in M:\n",
        "        expr[i - 1] = expr[i - 1].subs(m[j], M[j])\n",
        "\n",
        "sol = solve(tuple(expr), tuple(m))\n",
        "\n",
        "for i in range(len(sol)):\n",
        "    M[i + 1] = sol[m[i + 1]]\n",
        "\n",
        "ind = 0\n",
        "for ind in range(n + 1):\n",
        "    if X0 <= x[ind]:\n",
        "        break\n",
        "\n",
        "Y = (x[ind] - X0) ** 3 * M[ind - 1] / (6 * h) + (X0 - x[ind - 1]) ** 3 * M[ind] / (6 * h) + (x[ind] - X0) / h * (y[ind - 1] - (h ** 2 * M[ind - 1]) / 6) + (X0 - x[ind - 1]) / h * (y[ind] - h ** 2 * M[ind] / 6)\n",
        "print(Y)"
      ],
      "metadata": {
        "colab": {
          "base_uri": "https://localhost:8080/"
        },
        "id": "P0m3V7O383nz",
        "outputId": "0ba97cf3-8e9d-4e7f-9754-4338cedf7e5f"
      },
      "execution_count": null,
      "outputs": [
        {
          "output_type": "stream",
          "name": "stdout",
          "text": [
            "2.57500000000000\n"
          ]
        }
      ]
    },
    {
      "cell_type": "markdown",
      "source": [
        "**Lagrange's Interpolation**\n",
        "\n",
        "[Theory](https://atozmath.com/example/CONM/NumeInterPola.aspx?q=LI&q1=E1)"
      ],
      "metadata": {
        "id": "BVzcdeHrHEyb"
      }
    },
    {
      "cell_type": "code",
      "source": [
        "x = [300, 304, 305, 307]\n",
        "y = [2.4771, 2.4829, 2.4843, 2.4871]\n",
        "X = 301\n",
        "\n",
        "Y = 0\n",
        "\n",
        "for i in range(len(x)):\n",
        "    numerator = 1\n",
        "    denominator = 1\n",
        "    for j in range(len(x)):\n",
        "        if j != i:\n",
        "            numerator *= (X - x[j])\n",
        "            denominator *= (x[i] - x[j])\n",
        "    Y += numerator * y[i] / denominator\n",
        "\n",
        "print(Y)"
      ],
      "metadata": {
        "colab": {
          "base_uri": "https://localhost:8080/"
        },
        "id": "Q_W4fzvCHLqp",
        "outputId": "026141ef-c778-4b91-d887-613c990bbd00"
      },
      "execution_count": null,
      "outputs": [
        {
          "output_type": "stream",
          "name": "stdout",
          "text": [
            "2.4785971428571423\n"
          ]
        }
      ]
    },
    {
      "cell_type": "markdown",
      "source": [
        "**Inverse Lagrange's Interpolation**\n",
        "\n",
        "[Theory](https://atozmath.com/example/CONM/NumeInterPola.aspx?q=LII&q1=E1)"
      ],
      "metadata": {
        "id": "e7X-vhiOInIN"
      }
    },
    {
      "cell_type": "code",
      "source": [
        "x = [168, 120, 72, 63]\n",
        "y = [3, 7, 9, 10]\n",
        "X = 6\n",
        "\n",
        "Y = 0\n",
        "\n",
        "for i in range(len(y)):\n",
        "    numerator = 1\n",
        "    denominator = 1\n",
        "    for j in range(len(y)):\n",
        "        if j != i:\n",
        "            numerator *= (X - y[j])\n",
        "            denominator *= (y[i] - y[j])\n",
        "    Y += numerator * x[i] / denominator\n",
        "\n",
        "print(Y)"
      ],
      "metadata": {
        "colab": {
          "base_uri": "https://localhost:8080/"
        },
        "id": "m9w8DKnPI9uo",
        "outputId": "ceeb6174-2ac3-4a63-fa59-180a76412631"
      },
      "execution_count": null,
      "outputs": [
        {
          "output_type": "stream",
          "name": "stdout",
          "text": [
            "147.0\n"
          ]
        }
      ]
    },
    {
      "cell_type": "markdown",
      "source": [
        "**Newton's Forward Difference Interpolation**\n",
        "\n",
        "[Theory](https://atozmath.com/example/CONM/NumeInterPola.aspx?q=F&q1=E1)"
      ],
      "metadata": {
        "id": "qx-H4OaCJsq6"
      }
    },
    {
      "cell_type": "code",
      "source": [
        "def fact(n):\n",
        "    factorial = 1\n",
        "    for i in range(1, n + 1):\n",
        "        factorial *= i\n",
        "    return factorial"
      ],
      "metadata": {
        "id": "bLlTpVK-LMbp"
      },
      "execution_count": null,
      "outputs": []
    },
    {
      "cell_type": "code",
      "source": [
        "x = [1891, 1901, 1911, 1921, 1931]\n",
        "y = [46, 66, 81, 93, 101]\n",
        "X = 1895\n",
        "\n",
        "h = x[1] - x[0]\n",
        "p = (X - x[0]) / h\n",
        "\n",
        "table = []\n",
        "table.append(y)\n",
        "for i in range(len(x) - 1):\n",
        "    column = []\n",
        "    for j in range(1, len(table[i])):\n",
        "        column.append(table[i][j] - table[i][j - 1])\n",
        "    table.append(column)\n",
        "\n",
        "Y = 0\n",
        "\n",
        "for i in range(len(table)):\n",
        "    prod = 1\n",
        "    for j in range(i):\n",
        "        prod *= (p - j)\n",
        "    Y += prod * table[i][0] / fact(i)\n",
        "\n",
        "print(Y)"
      ],
      "metadata": {
        "colab": {
          "base_uri": "https://localhost:8080/"
        },
        "id": "IyK9OACuJ8dL",
        "outputId": "aee93978-15c2-4672-e4f2-26096d94fd58"
      },
      "execution_count": null,
      "outputs": [
        {
          "output_type": "stream",
          "name": "stdout",
          "text": [
            "54.8528\n"
          ]
        }
      ]
    },
    {
      "cell_type": "markdown",
      "source": [
        "**Newton's Backward Difference Interpolation**\n",
        "\n",
        "[Theory](https://atozmath.com/example/CONM/NumeInterPola.aspx?q=B&q1=E1)"
      ],
      "metadata": {
        "id": "K7PxZaxGLbig"
      }
    },
    {
      "cell_type": "code",
      "source": [
        "def fact(n):\n",
        "    factorial = 1\n",
        "    for i in range(1, n + 1):\n",
        "        factorial *= i\n",
        "    return factorial"
      ],
      "metadata": {
        "id": "xfSO6zrIMMnJ"
      },
      "execution_count": null,
      "outputs": []
    },
    {
      "cell_type": "code",
      "source": [
        "x = [1891, 1901, 1911, 1921, 1931]\n",
        "y = [46, 66, 81, 93, 101]\n",
        "X = 1925\n",
        "\n",
        "h = x[1] - x[0]\n",
        "p = (X - x[len(x) - 1]) / h\n",
        "\n",
        "table = []\n",
        "table.append(y)\n",
        "for i in range(len(x) - 1):\n",
        "    column = []\n",
        "    for j in range(1, len(table[i])):\n",
        "        column.append(table[i][j] - table[i][j - 1])\n",
        "    table.append(column)\n",
        "\n",
        "Y = 0\n",
        "\n",
        "for i in range(len(table)):\n",
        "    prod = 1\n",
        "    for j in range(i):\n",
        "        prod *= (p + j)\n",
        "    Y += prod * table[i][-1] / fact(i)\n",
        "\n",
        "print(Y)"
      ],
      "metadata": {
        "colab": {
          "base_uri": "https://localhost:8080/"
        },
        "id": "RhPCeBt9Lkxv",
        "outputId": "b05b8ea7-8c78-4fd3-ec78-cdffba2998b3"
      },
      "execution_count": null,
      "outputs": [
        {
          "output_type": "stream",
          "name": "stdout",
          "text": [
            "96.83680000000001\n"
          ]
        }
      ]
    },
    {
      "cell_type": "markdown",
      "source": [
        "[**Newton's Forward Difference Differentiation**](https://atozmath.com/example/CONM/NumeDiff.aspx?he=e&q=F)"
      ],
      "metadata": {
        "id": "iLBBnANJQL9y"
      }
    },
    {
      "cell_type": "code",
      "source": [
        "def fact(n):\n",
        "    factorial = 1\n",
        "    for i in range(1, n + 1):\n",
        "        factorial *= i\n",
        "    return factorial"
      ],
      "metadata": {
        "id": "zlJVdWazQWrQ"
      },
      "execution_count": null,
      "outputs": []
    },
    {
      "cell_type": "code",
      "source": [
        "x = [0.0, 0.1, 0.2, 0.3, 0.4]\n",
        "y = [1.0000, 0.9975, 0.9900, 0.9776, 0.8604]\n",
        "X = 0\n",
        "\n",
        "h = x[1] - x[0]\n",
        "p = (X - x[0]) / h\n",
        "\n",
        "table = []\n",
        "table.append(y)\n",
        "for i in range(len(x) - 1):\n",
        "    column = []\n",
        "    for j in range(1, len(table[i])):\n",
        "        column.append(table[i][j] - table[i][j - 1])\n",
        "    table.append(column)\n",
        "\n",
        "Y = 0\n",
        "t = symbols('t')\n",
        "\n",
        "for i in range(len(table)):\n",
        "    temp = table[i][0]\n",
        "    for j in range(i):\n",
        "        temp *= (t - j)\n",
        "    temp /= fact(i)\n",
        "    Y += temp\n",
        "\n",
        "dydx = diff(Y, t).subs(t, p) / h\n",
        "dy2dx2 = diff(diff(Y, t), t).subs(t, p) / h ** 2\n",
        "\n",
        "print(dydx)\n",
        "print(dy2dx2)"
      ],
      "metadata": {
        "colab": {
          "base_uri": "https://localhost:8080/"
        },
        "id": "iYnTZCZKQaD5",
        "outputId": "0b3ac1d9-23fc-4fe3-d5dd-7d423b503770"
      },
      "execution_count": null,
      "outputs": [
        {
          "output_type": "stream",
          "name": "stdout",
          "text": [
            "0.250333333333336\n",
            "-9.67666666666673\n"
          ]
        }
      ]
    },
    {
      "cell_type": "code",
      "source": [],
      "metadata": {
        "id": "RJWnGNzAB1Xr"
      },
      "execution_count": null,
      "outputs": []
    },
    {
      "cell_type": "markdown",
      "source": [
        "**Newton's Backward Difference Differentiation**"
      ],
      "metadata": {
        "id": "PGlGMbJmB2c9"
      }
    },
    {
      "cell_type": "code",
      "source": [
        "x = [0.0, 0.1, 0.2, 0.3, 0.4]\n",
        "y = [1.0000, 0.9975, 0.9900, 0.9776, 0.8604]\n",
        "X = 0\n",
        "\n",
        "h = x[1] - x[0]\n",
        "p = (X - x[-1]) / h\n",
        "\n",
        "table = []\n",
        "table.append(y)\n",
        "for i in range(len(x) - 1):\n",
        "    column = []\n",
        "    for j in range(1, len(table[i])):\n",
        "        column.append(table[i][j] - table[i][j - 1])\n",
        "    table.append(column)\n",
        "\n",
        "Y = 0\n",
        "t = symbols('t')\n",
        "\n",
        "for i in range(len(table)):\n",
        "    temp = table[i][-1]\n",
        "    for j in range(i):\n",
        "        temp *= (t + j)\n",
        "    temp /= fact(i)\n",
        "    Y += temp\n",
        "\n",
        "dydx = diff(Y, t).subs(t, p) / h\n",
        "dy2dx2 = diff(diff(Y, t), t).subs(t, p) / h ** 2\n",
        "\n",
        "print(dydx)\n",
        "print(dy2dx2)"
      ],
      "metadata": {
        "colab": {
          "base_uri": "https://localhost:8080/"
        },
        "id": "2b9n58x_Bz2C",
        "outputId": "c8abbde0-c725-43d3-cf4c-cdcb95b7c503"
      },
      "execution_count": null,
      "outputs": [
        {
          "output_type": "stream",
          "name": "stdout",
          "text": [
            "0.250333333333336\n",
            "-9.67666666666673\n"
          ]
        }
      ]
    },
    {
      "cell_type": "markdown",
      "source": [
        "[**Trapezoidal Rule**](https://atozmath.com/example/CONM/NumeInte.aspx?q=T&q1=E1)"
      ],
      "metadata": {
        "id": "QETZpnmDSPOW"
      }
    },
    {
      "cell_type": "code",
      "source": [
        "from sympy import *\n",
        "x = symbols('x')"
      ],
      "metadata": {
        "id": "NS24Z72rSXko"
      },
      "execution_count": null,
      "outputs": []
    },
    {
      "cell_type": "code",
      "source": [
        "eq = log(x)\n",
        "limits = [4, 5.2]\n",
        "\n",
        "h = 0.1\n",
        "X = []\n",
        "Y = []\n",
        "ind = limits[0]\n",
        "\n",
        "while ind <= limits[1]:\n",
        "    X.append(ind)\n",
        "    Y.append(eq.subs(x, ind))\n",
        "    ind += h\n",
        "\n",
        "value = (h / 2) * (Y[0] + 2 * sum(Y[1:-1]) + Y[-1])\n",
        "\n",
        "print(N(value))"
      ],
      "metadata": {
        "colab": {
          "base_uri": "https://localhost:8080/"
        },
        "id": "ndYu1FI8Sh-v",
        "outputId": "6cb57495-6dd4-4859-883c-1492db9c017a"
      },
      "execution_count": null,
      "outputs": [
        {
          "output_type": "stream",
          "name": "stdout",
          "text": [
            "1.82779933401591\n"
          ]
        }
      ]
    },
    {
      "cell_type": "markdown",
      "source": [
        "[**Simpson's 1/3 Rule**](https://atozmath.com/example/CONM/NumeInte.aspx?q=S13&q1=E1)"
      ],
      "metadata": {
        "id": "aqB4g52kVHde"
      }
    },
    {
      "cell_type": "code",
      "source": [
        "eq = log(x)\n",
        "limits = [4, 5.2]\n",
        "\n",
        "h = 0.1\n",
        "X = []\n",
        "Y = []\n",
        "ind = limits[0]\n",
        "\n",
        "while ind <= limits[1]:\n",
        "    X.append(ind)\n",
        "    Y.append(eq.subs(x, ind))\n",
        "    ind += h\n",
        "\n",
        "value = (h / 3) * (Y[0] + 4 * sum(Y[1:-1:2]) + 2 * sum(Y[2:-1:2]) + Y[-1])\n",
        "\n",
        "print(N(value))"
      ],
      "metadata": {
        "colab": {
          "base_uri": "https://localhost:8080/"
        },
        "id": "CtH8qAnhVROS",
        "outputId": "db669fc9-1b4b-436f-9200-59c7d4af6376"
      },
      "execution_count": null,
      "outputs": [
        {
          "output_type": "stream",
          "name": "stdout",
          "text": [
            "1.82784739912720\n"
          ]
        }
      ]
    },
    {
      "cell_type": "markdown",
      "source": [
        "[**Simpson's 3/8 Rule**](https://atozmath.com/example/CONM/NumeInte.aspx?q=S38&q1=E1)"
      ],
      "metadata": {
        "id": "dXaDP8DiW5Ki"
      }
    },
    {
      "cell_type": "code",
      "source": [
        "eq = log(x)\n",
        "limits = [4, 5.2]\n",
        "\n",
        "h = 0.1\n",
        "X = []\n",
        "Y = []\n",
        "ind = limits[0]\n",
        "\n",
        "while ind <= limits[1]:\n",
        "    X.append(ind)\n",
        "    Y.append(eq.subs(x, ind))\n",
        "    ind += h\n",
        "\n",
        "total = 0\n",
        "total3 = 0\n",
        "for i in range(1, len(Y) - 1):\n",
        "    if i % 3 != 0:\n",
        "        total += Y[i]\n",
        "    else:\n",
        "        total3 += Y[i]\n",
        "\n",
        "\n",
        "value = (3 * h / 8) * (Y[0] + 2 * total3 + 3 * total + Y[-1])\n",
        "\n",
        "print(N(value))"
      ],
      "metadata": {
        "colab": {
          "base_uri": "https://localhost:8080/"
        },
        "id": "yhLYhKARXDFw",
        "outputId": "62ce5dfa-3f5d-4b6b-8ada-61ce307c55ae"
      },
      "execution_count": null,
      "outputs": [
        {
          "output_type": "stream",
          "name": "stdout",
          "text": [
            "1.82784738734297\n"
          ]
        }
      ]
    }
  ]
}