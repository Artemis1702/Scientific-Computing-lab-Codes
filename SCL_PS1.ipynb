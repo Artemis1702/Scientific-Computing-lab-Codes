{
  "nbformat": 4,
  "nbformat_minor": 0,
  "metadata": {
    "colab": {
      "provenance": []
    },
    "kernelspec": {
      "name": "python3",
      "display_name": "Python 3"
    },
    "language_info": {
      "name": "python"
    }
  },
  "cells": [
    {
      "cell_type": "code",
      "execution_count": null,
      "metadata": {
        "id": "Skq2feJzSuEy"
      },
      "outputs": [],
      "source": [
        "# import numpy as np\n",
        "# import re\n",
        "import math"
      ]
    },
    {
      "cell_type": "markdown",
      "source": [
        "**1. Find Augmented Matrix Corresponding to given Linear System**"
      ],
      "metadata": {
        "id": "WyouwuLRTkA4"
      }
    },
    {
      "cell_type": "code",
      "source": [
        "m = int(input(\"Enter the number of linear equations:\"))\n",
        "n = int(input(\"Enter the number of variables:\"))\n",
        "aug = []\n",
        "for i in range(m):\n",
        "  eqn = input(\"Enter the equation:\")\n",
        "  row = []\n",
        "  for i in range(len(eqn)):\n",
        "    if eqn[i].isalpha():\n",
        "      if eqn[i - 2] == '-' or eqn[i - 3] == '-':\n",
        "        row.append(-int(eqn[i - 1]))\n",
        "      else:\n",
        "        row.append(int(eqn[i - 1]))\n",
        "    if eqn[i] == '=':\n",
        "      row.append(int(eqn[i + 1:]))\n",
        "  aug.append(row)\n",
        "\n",
        "print(aug)"
      ],
      "metadata": {
        "colab": {
          "base_uri": "https://localhost:8080/"
        },
        "id": "37Cd05YdTiC3",
        "outputId": "e4f4e76d-c7e9-497e-9f53-1e3c8a0c7e18"
      },
      "execution_count": null,
      "outputs": [
        {
          "output_type": "stream",
          "name": "stdout",
          "text": [
            "Enter the number of linear equations:2\n",
            "Enter the number of variables:2\n",
            "Enter the equation:2x-5y=9\n",
            "Enter the equation:3x + 8y = 123\n",
            "[[2, -5, 9], [3, 8, 123]]\n"
          ]
        }
      ]
    },
    {
      "cell_type": "code",
      "source": [
        "# eqns = [\"15x + 3y + 5z = 1\", \"12x + 5y + 7z = 2\", \"17x + 7y + 9z = 3\"]\n",
        "# aug = []\n",
        "# for i in range(3):\n",
        "#   coefs = []\n",
        "#   terms = re.split('-|\\+|=', eqns[i])\n",
        "#   for term in terms:\n",
        "#     match = re.match(r'^([\\d\\s]+)', term)\n",
        "#     coefs.append(int(match.groups()[0]))\n",
        "#   aug.append(coefs)\n",
        "# print(\"The augmented matrix is:\", aug)"
      ],
      "metadata": {
        "colab": {
          "base_uri": "https://localhost:8080/"
        },
        "id": "ti-dcXlDU5PU",
        "outputId": "d2195f4c-3e7d-463c-a81c-aca457b91b83"
      },
      "execution_count": null,
      "outputs": [
        {
          "output_type": "stream",
          "name": "stdout",
          "text": [
            "The augmented matrix is: [[15, 3, 5, 1], [12, 5, 7, 2], [17, 7, 9, 3]]\n"
          ]
        }
      ]
    },
    {
      "cell_type": "markdown",
      "source": [
        "**2. Check if Matrix in REF and RREF**"
      ],
      "metadata": {
        "id": "aVN6di2oh8KU"
      }
    },
    {
      "cell_type": "code",
      "source": [
        "'''\n",
        "REF\n",
        "1. First non-zero entry of each row must be 1\n",
        "2. The leading 1 of the below row should not occur before the leading 1 of the above row\n",
        "'''\n",
        "\n",
        "\n",
        "matrix = [[1, 2, 0, 3, 0], [0, 0, 1, 1, 0], [0, 0, 0, 0, 1], [0, 0, 0, 0, 0]]\n",
        "# matrix = [[0, -7, 5, 5], [0, 1, 3, 2]]\n",
        "# matrix = [[1, 2, 3, 4, 5], [1, 0, 7, 1, 3], [0, 0, 0, 0, 1], [0, 0, 0, 0, 0]]\n",
        "# matrix = [[1, 2, 3], [0, 0, 1], [0, 0, 0], [0, 0, 0]]\n",
        "\n",
        "rows = len(matrix)\n",
        "columns = len(matrix[0])\n",
        "prev_leading_pos = -1\n",
        "prev_all_zeros = False\n",
        "REF = True\n",
        "RREF = True\n",
        "\n",
        "for i in range(rows):\n",
        "  zeroCount = 0\n",
        "  for j in range(columns):\n",
        "    if matrix[i][j] == 0:\n",
        "      zeroCount = zeroCount + 1\n",
        "      if zeroCount == columns:\n",
        "        prev_all_zeros = True\n",
        "      continue\n",
        "    else:\n",
        "      if prev_all_zeros:\n",
        "        REF = False\n",
        "        break\n",
        "\n",
        "      if j >= prev_leading_pos:\n",
        "        prev_leading_pos = j\n",
        "        break\n",
        "      else:\n",
        "        REF = False\n",
        "        break\n",
        "\n",
        "if REF:\n",
        "  print(\"Row Echelon Form\")\n",
        "\n",
        "  # Checking for RREF\n",
        "  for i in range(rows):\n",
        "    for j in range(columns):\n",
        "      if matrix[i][j] == 0:\n",
        "        continue\n",
        "      elif matrix[i][j] == 1:\n",
        "        for k in range(rows):\n",
        "          if matrix[k][j] != 0 and k != i:\n",
        "            RREF = False\n",
        "            break\n",
        "        break\n",
        "      else:\n",
        "        RREF = False\n",
        "        break\n",
        "    \n",
        "  if RREF:\n",
        "    print(\"Reduced Row Echelon Form\")\n",
        "  else:\n",
        "    print(\"Not in Reduced Row Echelon Form\")\n",
        "\n",
        "else:\n",
        "  print(\"Not in Row Echelon Form\")\n",
        "  print(\"Not in Reduced Row Echelon Form\")"
      ],
      "metadata": {
        "id": "kGUA9c5ffoQX",
        "colab": {
          "base_uri": "https://localhost:8080/"
        },
        "outputId": "174e3bdb-de72-4490-f687-f92acab70128"
      },
      "execution_count": null,
      "outputs": [
        {
          "output_type": "stream",
          "name": "stdout",
          "text": [
            "Row Echelon Form\n",
            "Reduced Row Echelon Form\n"
          ]
        }
      ]
    },
    {
      "cell_type": "markdown",
      "source": [
        "**3. Finding RREF using Gauss-Jordan Elimination**"
      ],
      "metadata": {
        "id": "TEx2-IZgZlEO"
      }
    },
    {
      "cell_type": "code",
      "source": [
        "matrix = [[0, 3, -6, 6, 4, -5], [3, -7, 8, -5, 8, 9], [3, -9, 12, -9, 6, 15]]\n",
        "# matrix = [[1, 1, 1, 6], [2, -1, 1, 3], [1, 0, 1, 4]]\n",
        "# matrix = [[1, 3, 4, 7], [2, 4, 6, 8], [3, 6, 9, 12]]\n",
        "# matrix = [[1, 1, 1, 8], [-1, -2, 3, 1], [3, -7, 4, 10]]\n",
        "# matrix = [[1, 1, 2, 8], [-1, -2, 3, 1], [3, -7, 4, 10]]\n",
        "\n",
        "rows = len(matrix)\n",
        "columns = len(matrix[0])\n",
        "non_zero_index = -1\n",
        "\n",
        "def non_zero(row):\n",
        "  for i in range(len(row)):\n",
        "    if row[i] != 0:\n",
        "      return i\n",
        "\n",
        "# Arrange the rows by leftmost non-zero entry\n",
        "matrix.sort(key = non_zero)\n",
        "\n",
        "# # Make the leading coefficient of the first row 1\n",
        "# for i in range(columns):\n",
        "#   if matrix[0][i] != 0:\n",
        "#     non_zero_index = i\n",
        "#     matrix[0] = [x / matrix[0][i] for x in matrix[0]]\n",
        "#     break\n",
        "\n",
        "# # Making the the column of the leading coefficient of the top row zeros\n",
        "# for i in range(1, rows):\n",
        "#   ratio = matrix[i][non_zero_index] / matrix[0][non_zero_index]\n",
        "#   row = [x * ratio for x in matrix[0]]\n",
        "#   matrix[i] = [x - y for x, y in zip(matrix[i], row)]\n",
        "\n",
        "for i in range(0, rows):\n",
        "    # Making the first non-zero element 1\n",
        "    for j in range(columns):\n",
        "      if not math.isclose(matrix[i][j], 0.0):\n",
        "        non_zero_index = j\n",
        "        matrix[i] = [x / matrix[i][j] for x in matrix[i]]\n",
        "        break\n",
        "\n",
        "    # Making leading coefficient column corresponding values 0\n",
        "    for j in range(rows):\n",
        "      if j == i:\n",
        "        continue\n",
        "      else:\n",
        "        ratio = matrix[j][non_zero_index] / matrix[i][non_zero_index]\n",
        "        row = [x * ratio for x in matrix[i]]\n",
        "        matrix[j] = [x - y for x, y in zip(matrix[j], row)]\n",
        "\n",
        "print(\"The given matrix in RREF is:\")\n",
        "for row in matrix:\n",
        "  print(row)\n",
        "\n",
        "rank = rows\n",
        "zeros = [0] * columns\n",
        "\n",
        "for row in matrix:\n",
        "  if row == zeros:\n",
        "    rank -= 1\n",
        "\n",
        "print(\"\\nRank =\", rank)"
      ],
      "metadata": {
        "colab": {
          "base_uri": "https://localhost:8080/"
        },
        "id": "_gDea3VzZkBB",
        "outputId": "c4d97156-53f6-4c08-966c-8de07d11b61f"
      },
      "execution_count": null,
      "outputs": [
        {
          "output_type": "stream",
          "name": "stdout",
          "text": [
            "The given matrix in RREF is:\n",
            "[1.0, 0.0, -2.0000000000000004, 3.0, 0.0, -24.0]\n",
            "[-0.0, 1.0, -2.0, 2.0, 0.0, -7.0]\n",
            "[0.0, 0.0, 0.0, 0.0, 1.0, 4.0]\n",
            "\n",
            "Rank = 3\n"
          ]
        }
      ]
    },
    {
      "cell_type": "markdown",
      "source": [
        "**4. Solve Linear System using Gauss-Jordan Elimination Method**"
      ],
      "metadata": {
        "id": "aIyH6VoBG8nG"
      }
    },
    {
      "cell_type": "code",
      "source": [
        "def non_zero(row):\n",
        "    for i in range(len(row)):\n",
        "      if row[i] != 0:\n",
        "        return i"
      ],
      "metadata": {
        "id": "aeCG_E7ALqoU"
      },
      "execution_count": null,
      "outputs": []
    },
    {
      "cell_type": "code",
      "source": [
        "def rref(matrix):\n",
        "  rows = len(matrix)\n",
        "  columns = len(matrix[0])\n",
        "  non_zero_index = -1\n",
        "\n",
        "  # Arrange the rows by leftmost non-zero entry\n",
        "  matrix.sort(key = non_zero)\n",
        "  \n",
        "  for i in range(0, rows):\n",
        "    # Making the first non-zero element 1\n",
        "    for j in range(columns):\n",
        "      if not math.isclose(matrix[i][j], 0.0):\n",
        "        non_zero_index = j\n",
        "        matrix[i] = [x / matrix[i][j] for x in matrix[i]]\n",
        "        break\n",
        "\n",
        "    # Making leading coeffecient column corresponding values 0\n",
        "    for j in range(rows):\n",
        "      if j == i:\n",
        "        continue\n",
        "      else:\n",
        "        ratio = matrix[j][non_zero_index] / matrix[i][non_zero_index]\n",
        "        row = [x * ratio for x in matrix[i]]\n",
        "        matrix[j] = [x - y for x, y in zip(matrix[j], row)]\n",
        "\n",
        "  print(\"The given matrix in RREF is:\")\n",
        "  for row in matrix:\n",
        "    print(row)\n",
        "\n",
        "  return matrix"
      ],
      "metadata": {
        "id": "5HYKwwerJ8A4"
      },
      "execution_count": null,
      "outputs": []
    },
    {
      "cell_type": "code",
      "source": [
        "lin_sys = [\"1x1 + 1x2 + 2x3 = 8\", \"-1x1 - 2x2 + 3x3 = 1\", \"3x1 - 7x2 + 4x3 = 10\"]\n",
        "\n",
        "# Finding the augmented matrix\n",
        "aug = []\n",
        "for eqn in lin_sys:\n",
        "  row = []\n",
        "  for i in range(len(eqn)):\n",
        "    if eqn[i] == 'x':\n",
        "      if eqn[i - 2] == '-' or eqn[i - 3] == '-':\n",
        "        row.append(-int(eqn[i - 1]))\n",
        "      else:\n",
        "        row.append(int(eqn[i - 1]))\n",
        "    if eqn[i] == '=':\n",
        "      row.append(int(eqn[i + 1:]))\n",
        "  aug.append(row)\n",
        "\n",
        "aug = rref(aug)\n",
        "\n",
        "rank = len(aug)\n",
        "zeros = [0] * len(aug[0])\n",
        "solution = []\n",
        "\n",
        "for row in aug:\n",
        "  if row == zeros:\n",
        "    rank -= 1\n",
        "\n",
        "# Unique Solution\n",
        "if rank == len(aug[0]) - 1:\n",
        "  for i in range(len(aug) - 1, -1, -1):\n",
        "    for j in range(len(aug[0]) - 1):\n",
        "      if math.isclose(aug[i][j], 0.0):\n",
        "        continue\n",
        "      else:\n",
        "        solution.insert(0, aug[i][len(aug[0]) - 1])\n",
        "\n",
        "  print(\"Unique Solution:\", solution)\n",
        "\n",
        "# Infinite Solutions\n",
        "elif rank < len(aug[0]) - 1:\n",
        "  print(\"Infinite Solutions\")\n",
        "# No solution\n",
        "else:\n",
        "  print(\"No Solution\")"
      ],
      "metadata": {
        "colab": {
          "base_uri": "https://localhost:8080/"
        },
        "id": "GnK6UHS_HIIV",
        "outputId": "55d21fc8-3a5d-4417-f6c2-4c7fd7d7fc39"
      },
      "execution_count": null,
      "outputs": [
        {
          "output_type": "stream",
          "name": "stdout",
          "text": [
            "The given matrix in RREF is:\n",
            "[1.0, 0.0, 0.0, 3.0]\n",
            "[-0.0, 1.0, 0.0, 1.0]\n",
            "[-0.0, -0.0, 1.0, 2.0]\n",
            "Unique Solution: [3.0, 1.0, 2.0]\n"
          ]
        }
      ]
    },
    {
      "cell_type": "markdown",
      "source": [
        "**5. Gauss-Seidel Method**"
      ],
      "metadata": {
        "id": "CYQWllohM5DX"
      }
    },
    {
      "cell_type": "code",
      "source": [
        "# lin_sys = [\"4x1 + 1x2 + 1x3 = 2\", \"1x1 + 5x2 + 2x3 = -6\", \"1x1 + 2x2 + 3x3 = -4\"]\n",
        "lin_sys = [\"3x + 1x2 = 11\", \"2x1 + 5x2 = 16\"]\n",
        "\n",
        "# Finding the augmented matrix\n",
        "aug = []\n",
        "for eqn in lin_sys:\n",
        "  row = []\n",
        "  for i in range(len(eqn)):\n",
        "    if eqn[i] == 'x':\n",
        "      if eqn[i - 2] == '-' or eqn[i - 3] == '-':\n",
        "        row.append(-int(eqn[i - 1]))\n",
        "      else:\n",
        "        row.append(int(eqn[i - 1]))\n",
        "    if eqn[i] == '=':\n",
        "      row.append(int(eqn[i + 1:]))\n",
        "  aug.append(row)\n",
        "\n",
        "rows = len(aug)\n",
        "columns = len(aug[0])\n",
        "solutions = [0] * (columns - 1)\n",
        "\n",
        "for i in range(10):\n",
        "  for j in range(rows):\n",
        "    x = aug[j][columns - 1]\n",
        "    for k in range(columns - 1):\n",
        "      if k != j:\n",
        "        x -= aug[j][k] * solutions[k]\n",
        "    solutions[j] = x / aug[j][j]\n",
        "  print(\"Iteration\", i + 1)\n",
        "  print(solutions)\n",
        "\n",
        "for i in range(columns - 1):\n",
        "  # print(\"x\", i + 1, \" = \", round(solutions[i]), sep = \"\")\n",
        "  print(\"x\", i + 1, \" = \", solutions[i], sep = \"\")"
      ],
      "metadata": {
        "colab": {
          "base_uri": "https://localhost:8080/"
        },
        "id": "joiV3X7PM3yd",
        "outputId": "f2f2f15f-dd96-470f-bafb-7e508c72df68"
      },
      "execution_count": null,
      "outputs": [
        {
          "output_type": "stream",
          "name": "stdout",
          "text": [
            "Iteration 1\n",
            "[3.6666666666666665, 1.7333333333333336]\n",
            "Iteration 2\n",
            "[3.0888888888888886, 1.9644444444444447]\n",
            "Iteration 3\n",
            "[3.011851851851852, 1.9952592592592595]\n",
            "Iteration 4\n",
            "[3.00158024691358, 1.999367901234568]\n",
            "Iteration 5\n",
            "[3.0002106995884774, 1.9999157201646092]\n",
            "Iteration 6\n",
            "[3.000028093278464, 1.9999887626886141]\n",
            "Iteration 7\n",
            "[3.000003745770462, 1.9999985016918154]\n",
            "Iteration 8\n",
            "[3.000000499436062, 1.999999800225575]\n",
            "Iteration 9\n",
            "[3.000000066591475, 1.9999999733634097]\n",
            "Iteration 10\n",
            "[3.0000000088788634, 1.9999999964484545]\n",
            "x0 = 3.0000000088788634\n",
            "x1 = 1.9999999964484545\n"
          ]
        }
      ]
    },
    {
      "cell_type": "markdown",
      "source": [
        "**6. Gauss-Jacobi Method**"
      ],
      "metadata": {
        "id": "rJnVAusgd7lj"
      }
    },
    {
      "cell_type": "code",
      "source": [
        "# lin_sys = [\"4x1 + 1x2 + 1x3 = 2\", \"1x1 + 5x2 + 2x3 = -6\", \"1x1 + 2x2 + 3x3 = -4\"]\n",
        "lin_sys = [\"2x + 5x2 = 21\", \"1x1 + 2x2 = 8\"]\n",
        "\n",
        "# Finding the augmented matrix\n",
        "aug = []\n",
        "for eqn in lin_sys:\n",
        "  row = []\n",
        "  for i in range(len(eqn)):\n",
        "    if eqn[i] == 'x':\n",
        "      if eqn[i - 2] == '-' or eqn[i - 3] == '-':\n",
        "        row.append(-int(eqn[i - 1]))\n",
        "      else:\n",
        "        row.append(int(eqn[i - 1]))\n",
        "    if eqn[i] == '=':\n",
        "      row.append(int(eqn[i + 1:]))\n",
        "  aug.append(row)\n",
        "\n",
        "rows = len(aug)\n",
        "columns = len(aug[0])\n",
        "prev = [0] * (columns - 1)\n",
        "solutions = [0] * (columns - 1)\n",
        "\n",
        "for i in range(10):\n",
        "  for j in range(rows):\n",
        "    x = aug[j][columns - 1]\n",
        "    for k in range(columns - 1):\n",
        "      if k != j:\n",
        "        x -= aug[j][k] * prev[k]\n",
        "    solutions[j] = x / aug[j][j]\n",
        "\n",
        "  print(\"Iteration\", i + 1)\n",
        "  print(solutions)\n",
        "  for i in range(len(solutions)):\n",
        "    prev[i] = solutions[i] \n",
        "  print(\"\\n\")\n",
        "\n",
        "for i in range(columns - 1):\n",
        "  # print(\"x\", i + 1, \" = \", round(solutions[i]), sep = \"\")\n",
        "  print(\"x\", i + 1, \" = \", solutions[i], sep = \"\")"
      ],
      "metadata": {
        "colab": {
          "base_uri": "https://localhost:8080/"
        },
        "id": "Mm0uyecGeKnr",
        "outputId": "4545aeda-0520-46b3-fa1f-6817ca63c807"
      },
      "execution_count": null,
      "outputs": [
        {
          "output_type": "stream",
          "name": "stdout",
          "text": [
            "Iteration 1\n",
            "[10.5, 4.0]\n",
            "\n",
            "\n",
            "Iteration 2\n",
            "[0.5, -1.25]\n",
            "\n",
            "\n",
            "Iteration 3\n",
            "[13.625, 3.75]\n",
            "\n",
            "\n",
            "Iteration 4\n",
            "[1.125, -2.8125]\n",
            "\n",
            "\n",
            "Iteration 5\n",
            "[17.53125, 3.4375]\n",
            "\n",
            "\n",
            "Iteration 6\n",
            "[1.90625, -4.765625]\n",
            "\n",
            "\n",
            "Iteration 7\n",
            "[22.4140625, 3.046875]\n",
            "\n",
            "\n",
            "Iteration 8\n",
            "[2.8828125, -7.20703125]\n",
            "\n",
            "\n",
            "Iteration 9\n",
            "[28.517578125, 2.55859375]\n",
            "\n",
            "\n",
            "Iteration 10\n",
            "[4.103515625, -10.2587890625]\n",
            "\n",
            "\n",
            "x1 = 4.103515625\n",
            "x2 = -10.2587890625\n"
          ]
        }
      ]
    },
    {
      "cell_type": "markdown",
      "source": [
        "# ROUGH"
      ],
      "metadata": {
        "id": "4BEeoEIJK3vf"
      }
    },
    {
      "cell_type": "code",
      "source": [
        "# matrix = [[0, 0, 0, 6, 0], [0, 8, 1, 1, 0], [5, 0, 0, 0, 1], [0, 0, 0, 0, 0]]\n",
        "matrix = [[0, 3, -6, 6, 4, -5], [3, -7, 8, -5, 8, 9], [3, -9, 12, -9, 6, 15]]\n",
        "\n",
        "# REF\n",
        "rows = len(matrix)\n",
        "columns = len(matrix[0])\n",
        "\n",
        "def sortByLeading(row):\n",
        "    for i in range(columns):\n",
        "        if row[i] != 0:\n",
        "            return i\n",
        "    return columns\n",
        "\n",
        "matrix.sort(key = sortByLeading)\n",
        "\n",
        "print(\"REF:\", matrix)\n",
        "\n",
        "# RREF\n",
        "nonZeroIndex = -1\n",
        "for i in range(rows):\n",
        "    for j in range(columns):\n",
        "        if not math.isclose(matrix[i][j], 0.0):\n",
        "            nonZeroIndex = j\n",
        "        if matrix[j][i] != 0:\n",
        "            matrix[j] = [x / matrix[j][i] for x in matrix[j]]\n",
        "            break\n",
        "\n",
        "    for j in range(rows):\n",
        "        if j == i:\n",
        "            continue\n",
        "        else:\n",
        "            ratio = matrix[j][nonZeroIndex] / matrix[i][nonZeroIndex]\n",
        "            row = [x * ratio for x in matrix[i]]\n",
        "            matrix[j] = [x - y for x, y in zip(matrix[j], row)]\n",
        "\n",
        "print(\"RREF:\", matrix)"
      ],
      "metadata": {
        "colab": {
          "base_uri": "https://localhost:8080/",
          "height": 259
        },
        "id": "gCgqSAlQK6Fn",
        "outputId": "a551b477-c503-4187-d5c6-d1a9ed7272c1"
      },
      "execution_count": null,
      "outputs": [
        {
          "output_type": "stream",
          "name": "stdout",
          "text": [
            "REF: [[3, -7, 8, -5, 8, 9], [3, -9, 12, -9, 6, 15], [0, 3, -6, 6, 4, -5]]\n"
          ]
        },
        {
          "output_type": "error",
          "ename": "ZeroDivisionError",
          "evalue": "ignored",
          "traceback": [
            "\u001b[0;31m---------------------------------------------------------------------------\u001b[0m",
            "\u001b[0;31mZeroDivisionError\u001b[0m                         Traceback (most recent call last)",
            "\u001b[0;32m<ipython-input-10-cae16036d780>\u001b[0m in \u001b[0;36m<module>\u001b[0;34m\u001b[0m\n\u001b[1;32m     30\u001b[0m             \u001b[0;32mcontinue\u001b[0m\u001b[0;34m\u001b[0m\u001b[0;34m\u001b[0m\u001b[0m\n\u001b[1;32m     31\u001b[0m         \u001b[0;32melse\u001b[0m\u001b[0;34m:\u001b[0m\u001b[0;34m\u001b[0m\u001b[0;34m\u001b[0m\u001b[0m\n\u001b[0;32m---> 32\u001b[0;31m             \u001b[0mratio\u001b[0m \u001b[0;34m=\u001b[0m \u001b[0mmatrix\u001b[0m\u001b[0;34m[\u001b[0m\u001b[0mj\u001b[0m\u001b[0;34m]\u001b[0m\u001b[0;34m[\u001b[0m\u001b[0mnonZeroIndex\u001b[0m\u001b[0;34m]\u001b[0m \u001b[0;34m/\u001b[0m \u001b[0mmatrix\u001b[0m\u001b[0;34m[\u001b[0m\u001b[0mi\u001b[0m\u001b[0;34m]\u001b[0m\u001b[0;34m[\u001b[0m\u001b[0mnonZeroIndex\u001b[0m\u001b[0;34m]\u001b[0m\u001b[0;34m\u001b[0m\u001b[0;34m\u001b[0m\u001b[0m\n\u001b[0m\u001b[1;32m     33\u001b[0m             \u001b[0mrow\u001b[0m \u001b[0;34m=\u001b[0m \u001b[0;34m[\u001b[0m\u001b[0mx\u001b[0m \u001b[0;34m*\u001b[0m \u001b[0mratio\u001b[0m \u001b[0;32mfor\u001b[0m \u001b[0mx\u001b[0m \u001b[0;32min\u001b[0m \u001b[0mmatrix\u001b[0m\u001b[0;34m[\u001b[0m\u001b[0mi\u001b[0m\u001b[0;34m]\u001b[0m\u001b[0;34m]\u001b[0m\u001b[0;34m\u001b[0m\u001b[0;34m\u001b[0m\u001b[0m\n\u001b[1;32m     34\u001b[0m             \u001b[0mmatrix\u001b[0m\u001b[0;34m[\u001b[0m\u001b[0mj\u001b[0m\u001b[0;34m]\u001b[0m \u001b[0;34m=\u001b[0m \u001b[0;34m[\u001b[0m\u001b[0mx\u001b[0m \u001b[0;34m-\u001b[0m \u001b[0my\u001b[0m \u001b[0;32mfor\u001b[0m \u001b[0mx\u001b[0m\u001b[0;34m,\u001b[0m \u001b[0my\u001b[0m \u001b[0;32min\u001b[0m \u001b[0mzip\u001b[0m\u001b[0;34m(\u001b[0m\u001b[0mmatrix\u001b[0m\u001b[0;34m[\u001b[0m\u001b[0mj\u001b[0m\u001b[0;34m]\u001b[0m\u001b[0;34m,\u001b[0m \u001b[0mrow\u001b[0m\u001b[0;34m)\u001b[0m\u001b[0;34m]\u001b[0m\u001b[0;34m\u001b[0m\u001b[0;34m\u001b[0m\u001b[0m\n",
            "\u001b[0;31mZeroDivisionError\u001b[0m: float division by zero"
          ]
        }
      ]
    }
  ]
}