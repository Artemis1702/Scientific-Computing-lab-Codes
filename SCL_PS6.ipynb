{
  "nbformat": 4,
  "nbformat_minor": 0,
  "metadata": {
    "colab": {
      "provenance": []
    },
    "kernelspec": {
      "name": "python3",
      "display_name": "Python 3"
    },
    "language_info": {
      "name": "python"
    }
  },
  "cells": [
    {
      "cell_type": "markdown",
      "source": [
        "### **Q1**"
      ],
      "metadata": {
        "id": "QEajrwBV91Xw"
      }
    },
    {
      "cell_type": "markdown",
      "source": [
        "**Newton's Forward Difference Interpolation**"
      ],
      "metadata": {
        "id": "Jw5i-lGW_FWw"
      }
    },
    {
      "cell_type": "code",
      "source": [
        "from sympy import *"
      ],
      "metadata": {
        "id": "u-9gOAXi-F0I"
      },
      "execution_count": null,
      "outputs": []
    },
    {
      "cell_type": "code",
      "source": [
        "def factorial(x):\n",
        "    fact = 1\n",
        "    for i in range(1, x + 1):\n",
        "        fact *= i\n",
        "    return fact"
      ],
      "metadata": {
        "id": "YXaA1Fl8_G2p"
      },
      "execution_count": null,
      "outputs": []
    },
    {
      "cell_type": "code",
      "source": [
        "def newtonDifferenceTable(x, y, X):\n",
        "    n = len(x)\n",
        "    m = n\n",
        "    table = []\n",
        "    table.append(y)\n",
        "\n",
        "    for i in range(n - 1):\n",
        "        values = []\n",
        "        for j in range(m - 1):\n",
        "            values.append(table[i][j + 1] - table[i][j])\n",
        "        table.append(values)\n",
        "        m -= 1\n",
        "\n",
        "    return table"
      ],
      "metadata": {
        "id": "GCAlo137_Ib_"
      },
      "execution_count": null,
      "outputs": []
    },
    {
      "cell_type": "code",
      "source": [
        "x = [0.96, 0.98, 1.00, 1.02, 1.04]\n",
        "y = [0.7825, 0.7739, 0.7651, 0.7563, 0.7473]\n",
        "X = 0.96\n",
        "\n",
        "x = [0.0, 0.1, 0.2, 0.3, 0.4]\n",
        "y = [1.0000, 0.9975, 0.9900, 0.9776, 0.8604]\n",
        "X = 0\n",
        "\n",
        "h = x[1] - x[0]\n",
        "t = (X - x[0]) / h\n",
        "\n",
        "table = newtonDifferenceTable(x, y, X)\n",
        "\n",
        "Y = 0\n",
        "u = symbols('u')\n",
        "for i in range(len(x)):\n",
        "    temp = table[i][0]\n",
        "    for j in range(i):\n",
        "        temp *= (u - j)\n",
        "    temp /= factorial(i)\n",
        "    Y += temp\n",
        "\n",
        "dydx = diff(Y, u).subs(u, t) / h\n",
        "dy2dx2 = diff(diff(Y, u), u).subs(u, t) / h ** 2\n",
        "\n",
        "print(\"dydx = \", dydx)\n",
        "print(\"dy2dx2 = \", dy2dx2)"
      ],
      "metadata": {
        "colab": {
          "base_uri": "https://localhost:8080/"
        },
        "id": "xVuh-a0P_J4F",
        "outputId": "3919a28e-64dc-4c0f-e060-758cf368adc6"
      },
      "execution_count": null,
      "outputs": [
        {
          "output_type": "stream",
          "name": "stdout",
          "text": [
            "dydx =  0.250333333333336\n",
            "dy2dx2 =  -9.67666666666673\n"
          ]
        }
      ]
    },
    {
      "cell_type": "markdown",
      "source": [
        "### **Q2**"
      ],
      "metadata": {
        "id": "hNC_AFgL0T1n"
      }
    },
    {
      "cell_type": "code",
      "source": [
        "from sympy import *\n",
        "\n",
        "x = symbols('x')"
      ],
      "metadata": {
        "id": "y5-05X-j0Wzn"
      },
      "execution_count": null,
      "outputs": []
    },
    {
      "cell_type": "markdown",
      "source": [
        "**Trapezoidal Rule**"
      ],
      "metadata": {
        "id": "iZpd3t_i45EU"
      }
    },
    {
      "cell_type": "code",
      "source": [
        "def trapezoidal(eq, limits):\n",
        "    X = []\n",
        "    Y = []\n",
        "    i = limits[0]\n",
        "    h = 0.1\n",
        "\n",
        "    while i <= limits[1]:\n",
        "        X.append(i)\n",
        "        Y.append(eq.subs(x, i))\n",
        "        i += h\n",
        "\n",
        "    ySum = 0\n",
        "    for j in range(1, len(Y) - 1):\n",
        "        ySum += Y[j]\n",
        "\n",
        "    value = (h / 2) * (Y[0] + Y[-1] + 2 * ySum)\n",
        "\n",
        "    return N(value)"
      ],
      "metadata": {
        "id": "Hc0GsJxD65Eq"
      },
      "execution_count": null,
      "outputs": []
    },
    {
      "cell_type": "code",
      "source": [
        "eq = log(x)\n",
        "limits = [4, 5.2]\n",
        "print(trapezoidal(eq, limits))"
      ],
      "metadata": {
        "colab": {
          "base_uri": "https://localhost:8080/"
        },
        "id": "2-8jnYYK2I0B",
        "outputId": "5503b41c-c66c-4f59-c879-77416b4967f9"
      },
      "execution_count": null,
      "outputs": [
        {
          "output_type": "stream",
          "name": "stdout",
          "text": [
            "1.82779933401591\n"
          ]
        }
      ]
    },
    {
      "cell_type": "code",
      "source": [
        "eq = exp(-(x**2))\n",
        "limits = [0, 1]\n",
        "print(trapezoidal(eq, limits))"
      ],
      "metadata": {
        "colab": {
          "base_uri": "https://localhost:8080/"
        },
        "id": "1L1ChcAT48zh",
        "outputId": "2efca3b1-56ef-4f81-d88c-657532b8e048"
      },
      "execution_count": null,
      "outputs": [
        {
          "output_type": "stream",
          "name": "stdout",
          "text": [
            "0.746210796131749\n"
          ]
        }
      ]
    },
    {
      "cell_type": "code",
      "source": [
        "eq = x **2 / (1 + x ** 3)\n",
        "limits = [0, 1]\n",
        "print(trapezoidal(eq, limits))"
      ],
      "metadata": {
        "colab": {
          "base_uri": "https://localhost:8080/"
        },
        "id": "KumkIJ9S5ZfU",
        "outputId": "512eb887-4ed3-4eac-d72f-be10fd9ea6a8"
      },
      "execution_count": null,
      "outputs": [
        {
          "output_type": "stream",
          "name": "stdout",
          "text": [
            "0.231257134391809\n"
          ]
        }
      ]
    },
    {
      "cell_type": "markdown",
      "source": [
        "**Simpson's 1/3 Rule**"
      ],
      "metadata": {
        "id": "KDeAj-NV5vZa"
      }
    },
    {
      "cell_type": "code",
      "source": [
        "def simpsons1by3(eq, limits):\n",
        "    X = []\n",
        "    Y = []\n",
        "    i = limits[0]\n",
        "    h = 0.1\n",
        "\n",
        "    while i <= limits[1]:\n",
        "        X.append(i)\n",
        "        Y.append(eq.subs(x, i))\n",
        "        i += h\n",
        "\n",
        "    yOdd = 0\n",
        "    yEven = 0\n",
        "    for j in range(1, len(Y) - 1):\n",
        "        if j % 2 == 0:\n",
        "            yEven += Y[j]\n",
        "        else:\n",
        "            yOdd += Y[j]\n",
        "\n",
        "    value = (h / 3) * (Y[0] + Y[-1] + 2 * yEven + 4 * yOdd)\n",
        "\n",
        "    return N(value)"
      ],
      "metadata": {
        "id": "82bJbDzU5ynl"
      },
      "execution_count": null,
      "outputs": []
    },
    {
      "cell_type": "code",
      "source": [
        "eq = log(x)\n",
        "limits = [4, 5.2]\n",
        "print(simpsons1by3(eq, limits))"
      ],
      "metadata": {
        "colab": {
          "base_uri": "https://localhost:8080/"
        },
        "id": "Q3iYQbHy6hF5",
        "outputId": "b7d07da8-69a4-4d1b-f408-c9456caa6a61"
      },
      "execution_count": null,
      "outputs": [
        {
          "output_type": "stream",
          "name": "stdout",
          "text": [
            "1.82784739912720\n"
          ]
        }
      ]
    },
    {
      "cell_type": "code",
      "source": [
        "eq = exp(-(x**2))\n",
        "limits = [0, 1]\n",
        "print(simpsons1by3(eq, limits))"
      ],
      "metadata": {
        "colab": {
          "base_uri": "https://localhost:8080/"
        },
        "id": "UemwVrty6vWD",
        "outputId": "c62b601d-701e-445f-c677-3590e374b79f"
      },
      "execution_count": null,
      "outputs": [
        {
          "output_type": "stream",
          "name": "stdout",
          "text": [
            "0.746824948254444\n"
          ]
        }
      ]
    },
    {
      "cell_type": "code",
      "source": [
        "eq = x **2 / (1 + x ** 3)\n",
        "limits = [0, 1]\n",
        "print(simpsons1by3(eq, limits))"
      ],
      "metadata": {
        "colab": {
          "base_uri": "https://localhost:8080/"
        },
        "id": "hRG7O-gp6ys9",
        "outputId": "c871ea3a-e97b-48cd-e7c1-97193f861ad0"
      },
      "execution_count": null,
      "outputs": [
        {
          "output_type": "stream",
          "name": "stdout",
          "text": [
            "0.231050076896310\n"
          ]
        }
      ]
    },
    {
      "cell_type": "markdown",
      "source": [
        "**Simpson's 3/8 Rule**"
      ],
      "metadata": {
        "id": "2e0ZSblW7Vxk"
      }
    },
    {
      "cell_type": "code",
      "source": [
        "def simpsons3by8(eq, limits):\n",
        "    X = []\n",
        "    Y = []\n",
        "    i = limits[0]\n",
        "    h = 0.1\n",
        "\n",
        "    while i <= limits[1]:\n",
        "        X.append(i)\n",
        "        Y.append(eq.subs(x, i))\n",
        "        i += h\n",
        "\n",
        "    y3 = 0\n",
        "    yRest = 0\n",
        "    for j in range(1, len(Y) - 1):\n",
        "        if j % 3 == 0:\n",
        "            y3 += Y[j]\n",
        "        else:\n",
        "            yRest += Y[j]\n",
        "\n",
        "    value = (3 * h / 8) * (Y[0] + Y[-1] + 2 * y3 + 3 * yRest)\n",
        "\n",
        "    return N(value)"
      ],
      "metadata": {
        "id": "T-cOXP4I7YMM"
      },
      "execution_count": null,
      "outputs": []
    },
    {
      "cell_type": "code",
      "source": [
        "eq = log(x)\n",
        "limits = [4, 5.2]\n",
        "print(simpsons3by8(eq, limits))"
      ],
      "metadata": {
        "colab": {
          "base_uri": "https://localhost:8080/"
        },
        "id": "UyjsJc8b7swL",
        "outputId": "1729a14f-7f7c-4d1f-9734-ccef4410aaf4"
      },
      "execution_count": null,
      "outputs": [
        {
          "output_type": "stream",
          "name": "stdout",
          "text": [
            "1.82784738734297\n"
          ]
        }
      ]
    },
    {
      "cell_type": "code",
      "source": [
        "eq = exp(-(x**2))\n",
        "limits = [0, 1]\n",
        "print(simpsons3by8(eq, limits))"
      ],
      "metadata": {
        "colab": {
          "base_uri": "https://localhost:8080/"
        },
        "id": "gSJZQQ5q7tRa",
        "outputId": "707fae4e-981d-4adc-910e-765946a73965"
      },
      "execution_count": null,
      "outputs": [
        {
          "output_type": "stream",
          "name": "stdout",
          "text": [
            "0.736721946967559\n"
          ]
        }
      ]
    },
    {
      "cell_type": "code",
      "source": [
        "eq = x **2 / (1 + x ** 3)\n",
        "limits = [0, 1]\n",
        "print(simpsons3by8(eq, limits))"
      ],
      "metadata": {
        "colab": {
          "base_uri": "https://localhost:8080/"
        },
        "id": "AU60G4ld7tVy",
        "outputId": "616681c5-1d30-48fe-bba8-b6c1813ee3b4"
      },
      "execution_count": null,
      "outputs": [
        {
          "output_type": "stream",
          "name": "stdout",
          "text": [
            "0.218833073457809\n"
          ]
        }
      ]
    },
    {
      "cell_type": "markdown",
      "source": [
        "### **Q3**"
      ],
      "metadata": {
        "id": "Zx202wli75mc"
      }
    },
    {
      "cell_type": "code",
      "source": [
        "t = [x for x in range(0, 41, 5)]\n",
        "V = [30, 24, 19.5, 16, 13.6, 11.7, 10.0, 8.5, 7.0]"
      ],
      "metadata": {
        "id": "5qlxYCrH7_vq"
      },
      "execution_count": null,
      "outputs": []
    },
    {
      "cell_type": "markdown",
      "source": [
        "**Simpson's Rule**"
      ],
      "metadata": {
        "id": "UdRQWkQS8g0I"
      }
    },
    {
      "cell_type": "code",
      "source": [
        "h = t[1] - t[0]\n",
        "yOdd = 0\n",
        "yEven = 0\n",
        "\n",
        "for j in range(1, len(V) - 1):\n",
        "    if j % 2 == 0:\n",
        "        yEven += V[j]\n",
        "    else:\n",
        "        yOdd += V[j]\n",
        "\n",
        "value = (h / 3) * (V[0] + V[-1] + 2 * yEven + 4 * yOdd)\n",
        "\n",
        "print(\"The distance moved by the train in 40 seconds is \", value, \" metres\", sep = \"\")"
      ],
      "metadata": {
        "colab": {
          "base_uri": "https://localhost:8080/"
        },
        "id": "ZL1u7uSC8jTE",
        "outputId": "fdd67f5f-2c15-4f8f-c6ec-14b2ef3d24f8"
      },
      "execution_count": null,
      "outputs": [
        {
          "output_type": "stream",
          "name": "stdout",
          "text": [
            "The distance moved by the train in 40 seconds is 606.6666666666667 metres\n"
          ]
        }
      ]
    },
    {
      "cell_type": "markdown",
      "source": [
        "**Trapezoidal Rule**"
      ],
      "metadata": {
        "id": "kCXOklur9NnK"
      }
    },
    {
      "cell_type": "code",
      "source": [
        "h = t[1] - t[0]\n",
        "X = []\n",
        "Y = []\n",
        "i = limits[0]\n",
        "\n",
        "ySum = 0\n",
        "for j in range(1, len(V) - 1):\n",
        "    ySum += V[j]\n",
        "\n",
        "value = (h / 2) * (V[0] + V[-1] + 2 * ySum)\n",
        "\n",
        "print(\"The distance moved by the train in 40 seconds is \", value, \" metres\", sep = \"\")"
      ],
      "metadata": {
        "colab": {
          "base_uri": "https://localhost:8080/"
        },
        "id": "G97xM4Iu9M65",
        "outputId": "4ee5db6a-e939-4b87-bde3-26aa1e2ad389"
      },
      "execution_count": null,
      "outputs": [
        {
          "output_type": "stream",
          "name": "stdout",
          "text": [
            "The distance moved by the train in 40 seconds is 609.0 metres\n"
          ]
        }
      ]
    }
  ]
}