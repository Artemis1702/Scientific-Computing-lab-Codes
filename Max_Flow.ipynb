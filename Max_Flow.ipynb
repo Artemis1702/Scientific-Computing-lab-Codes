{
  "nbformat": 4,
  "nbformat_minor": 0,
  "metadata": {
    "colab": {
      "provenance": []
    },
    "kernelspec": {
      "name": "python3",
      "display_name": "Python 3"
    },
    "language_info": {
      "name": "python"
    }
  },
  "cells": [
    {
      "cell_type": "markdown",
      "source": [
        "# Max Flow Problem\n",
        "\n",
        "\n",
        "> Maximum flow problems involve finding a feasible flow through a single-source, single-sink flow network that is maximum."
      ],
      "metadata": {
        "id": "8MRpuaTOVIpf"
      }
    },
    {
      "cell_type": "markdown",
      "source": [
        "## Ford-Fulkerson Algorithm\n",
        "\n",
        "> This an algorithm to find the max flow with a time complexity of O(max_flow * E). We run a loop while there is an augmenting path. In worst case, we may add 1 unit flow in every iteration. \n",
        "\n",
        "Residual Graph of a flow network is a graph which indicates additional possible flow. If there is a path from source to sink in residual graph, then it is possible to add flow. Every edge of a residual graph has a value called residual capacity which is equal to original capacity of the edge minus current flow. Residual capacity is basically the current capacity of the edge. "
      ],
      "metadata": {
        "id": "ntAfQiOaVq_o"
      }
    },
    {
      "cell_type": "code",
      "execution_count": null,
      "metadata": {
        "id": "aLAW6Hg3U0oj"
      },
      "outputs": [],
      "source": [
        "class Graph:\n",
        " \n",
        "    def __init__(self, graph):\n",
        "        self.graph = graph  \n",
        "        self. ROW = len(graph)\n",
        " \n",
        "    def BFS(self, s, t, parent):\n",
        "        visited = [False]*(self.ROW)\n",
        "        queue = []\n",
        "        queue.append(s)\n",
        "        visited[s] = True\n",
        "        while queue:\n",
        "            u = queue.pop(0)\n",
        "            for ind, val in enumerate(self.graph[u]):\n",
        "                if visited[ind] == False and val > 0:\n",
        "                    queue.append(ind)\n",
        "                    visited[ind] = True\n",
        "                    parent[ind] = u\n",
        "                    if ind == t:\n",
        "                        return True\n",
        "        return False\n",
        "             \n",
        "     \n",
        "    # Returns the maximum flow from s to t in the given graph\n",
        "    def FordFulkerson(self, source, sink):\n",
        "        parent = [-1]*(self.ROW)\n",
        "        max_flow = 0 \n",
        "        while self.BFS(source, sink, parent) :\n",
        "            path_flow = float(\"Inf\")\n",
        "            s = sink\n",
        "            while(s !=  source):\n",
        "                path_flow = min (path_flow, self.graph[parent[s]][s])\n",
        "                s = parent[s]\n",
        " \n",
        "            max_flow +=  path_flow\n",
        "            v = sink\n",
        "            while(v !=  source):\n",
        "                u = parent[v]\n",
        "                self.graph[u][v] -= path_flow\n",
        "                self.graph[v][u] += path_flow\n",
        "                v = parent[v]\n",
        " \n",
        "        return max_flow\n",
        " \n",
        "  \n"
      ]
    },
    {
      "cell_type": "code",
      "source": [
        "graph = [[0, 16, 13, 0, 0, 0],\n",
        "        [0, 0, 10, 12, 0, 0],\n",
        "        [0, 4, 0, 0, 14, 0],\n",
        "        [0, 0, 9, 0, 0, 20],\n",
        "        [0, 0, 0, 7, 0, 4],\n",
        "        [0, 0, 0, 0, 0, 0]]\n",
        " \n",
        "g = Graph(graph)\n",
        "\n",
        "print (\"The Maximum possible flow is\",g.FordFulkerson(0, 5))\n",
        " "
      ],
      "metadata": {
        "id": "RcH9SDidNiQM",
        "outputId": "62e6bb96-3628-4ca0-f56f-a4d1618d9649",
        "colab": {
          "base_uri": "https://localhost:8080/"
        }
      },
      "execution_count": null,
      "outputs": [
        {
          "output_type": "stream",
          "name": "stdout",
          "text": [
            "The Maximum possible flow is 23\n"
          ]
        }
      ]
    },
    {
      "cell_type": "markdown",
      "source": [
        "# Dinic's Algorithm\n",
        "\n",
        "\n",
        "\n",
        "> This an algorithm to find the max flow with a time complexity of O(EV^2).\n",
        "\n",
        " Dinic’s algorithm uses following concepts : \n",
        "\n",
        "\n",
        "\n",
        "1.   A flow is maximum if there is no s to t path in residual graph.\n",
        "2.   BFS is used in a loop. There is a difference though in the way we use BFS in both algorithms.\n",
        "\n",
        "In Dinic’s algorithm, we use BFS to check if more flow is possible and to construct level graph. In level graph, we assign levels to all nodes, level of a node is shortest distance (in terms of number of edges) of the node from source. Once level graph is constructed, we send multiple flows using this level graph.\n",
        "\n",
        "\n",
        "\n",
        "\n"
      ],
      "metadata": {
        "id": "N2yBqoyXWFNQ"
      }
    },
    {
      "cell_type": "code",
      "source": [
        "class Edge:\n",
        "    def __init__(self, v, flow, C, rev):\n",
        "        self.v = v\n",
        "        self.flow = flow\n",
        "        self.C = C\n",
        "        self.rev = rev\n",
        "\n",
        "class Graph:\n",
        "    def __init__(self, V):\n",
        "        self.adj = [[] for i in range(V)]\n",
        "        self.V = V\n",
        "        self.level = [0 for i in range(V)]\n",
        "    \n",
        "    def addEdge(self, u, v, C):\n",
        " \n",
        "        # Forward edge : 0 flow and C capacity\n",
        "        a = Edge(v, 0, C, len(self.adj[v]))\n",
        " \n",
        "        # Back edge : 0 flow and 0 capacity\n",
        "        b = Edge(u, 0, 0, len(self.adj[u]))\n",
        "        self.adj[u].append(a)\n",
        "        self.adj[v].append(b)\n",
        " \n",
        "\n",
        "    def BFS(self, s, t):\n",
        "        for i in range(self.V):\n",
        "            self.level[i] = -1\n",
        " \n",
        "        self.level[s] = 0\n",
        "        q = []\n",
        "        q.append(s)\n",
        "        while q:\n",
        "            u = q.pop(0)\n",
        "            for i in range(len(self.adj[u])):\n",
        "                e = self.adj[u][i]\n",
        "                if self.level[e.v] < 0 and e.flow < e.C:\n",
        "                    self.level[e.v] = self.level[u]+1\n",
        "                    q.append(e.v)\n",
        "\n",
        "        return False if self.level[t] < 0 else True\n",
        " \n",
        "    def sendFlow(self, u, flow, t, start):\n",
        "        if u == t:\n",
        "            return flow\n",
        " \n",
        "        while start[u] < len(self.adj[u]):\n",
        "            e = self.adj[u][start[u]]\n",
        "            if self.level[e.v] == self.level[u]+1 and e.flow < e.C:\n",
        "                curr_flow = min(flow, e.C-e.flow)\n",
        "                temp_flow = self.sendFlow(e.v, curr_flow, t, start)\n",
        "                if temp_flow and temp_flow > 0:\n",
        "                    e.flow += temp_flow\n",
        "                    self.adj[e.v][e.rev].flow -= temp_flow\n",
        "                    return temp_flow\n",
        "            start[u] += 1\n",
        "\n",
        "    def DinicMaxflow(self, s, t):\n",
        "        if s == t:\n",
        "            return -1\n",
        "        total = 0\n",
        "        while self.BFS(s, t) == True:\n",
        "            start = [0 for i in range(self.V+1)]\n",
        "            while True:\n",
        "                flow = self.sendFlow(s, float('inf'), t, start)\n",
        "                if not flow:\n",
        "                    break\n",
        "                total += flow\n",
        "        return total"
      ],
      "metadata": {
        "id": "SrfeQIGMWDdI"
      },
      "execution_count": null,
      "outputs": []
    },
    {
      "cell_type": "code",
      "source": [
        "g = Graph(6)\n",
        "g.addEdge(0, 1, 16)\n",
        "g.addEdge(0, 2, 13)\n",
        "g.addEdge(1, 2, 10)\n",
        "g.addEdge(1, 3, 12)\n",
        "g.addEdge(2, 1, 4)\n",
        "g.addEdge(2, 4, 14)\n",
        "g.addEdge(3, 2, 9)\n",
        "g.addEdge(3, 5, 20)\n",
        "g.addEdge(4, 3, 7)\n",
        "g.addEdge(4, 5, 4)\n",
        "print(\"The Maximum flow possible is\", g.DinicMaxflow(0, 5))"
      ],
      "metadata": {
        "colab": {
          "base_uri": "https://localhost:8080/"
        },
        "id": "jifiuSW1QR3T",
        "outputId": "4e01d598-ec4c-413b-e2e6-4a3037e24c8e"
      },
      "execution_count": null,
      "outputs": [
        {
          "output_type": "stream",
          "name": "stdout",
          "text": [
            "The Maximum flow possible is 23\n"
          ]
        }
      ]
    },
    {
      "cell_type": "markdown",
      "source": [
        "# Bellman Ford Algorithm\n",
        "\n",
        "\n",
        "> We can use the Bellman Ford algorithm to solve a subproblem of the maximum flow problem, wherein we are given the edge cost too, and we have to find the maximum flow using minimum cost\n",
        "\n",
        "\n"
      ],
      "metadata": {
        "id": "XlSO1hm6WVsI"
      }
    },
    {
      "cell_type": "code",
      "source": [
        "from sys import maxsize\n",
        "from typing import List\n",
        "\n",
        "found = []\n",
        "N = 0\n",
        "cap = []\n",
        " \n",
        "flow = []\n",
        "\n",
        "cost = []\n",
        "\n",
        "dad = []\n",
        "dist = []\n",
        "pi = []\n",
        " \n",
        "INF = maxsize // 2 - 1"
      ],
      "metadata": {
        "id": "D-cN1VfRWUgs"
      },
      "execution_count": null,
      "outputs": []
    },
    {
      "cell_type": "code",
      "source": [
        "# Function to check if it is possible to have a flow from the src to sink\n",
        "def search(src: int, sink: int) -> bool:\n",
        " \n",
        "    found = [False for _ in range(N)]\n",
        "\n",
        "    dist = [INF for _ in range(N + 1)]\n",
        "\n",
        "    dist[src] = 0\n",
        " \n",
        "    while (src != N):\n",
        "        best = N\n",
        "        found[src] = True\n",
        " \n",
        "        for k in range(N):\n",
        " \n",
        "            if (found[k]):\n",
        "                continue\n",
        " \n",
        "            if (flow[k][src] != 0):\n",
        " \n",
        "                val = (dist[src] + pi[src] -\n",
        "                           pi[k] - cost[k][src])\n",
        "\n",
        "                if (dist[k] > val):\n",
        "                    dist[k] = val\n",
        "                    dad[k] = src\n",
        " \n",
        "            if (flow[src][k] < cap[src][k]):\n",
        "                val = (dist[src] + pi[src] -\n",
        "                           pi[k] + cost[src][k])\n",
        " \n",
        "                if (dist[k] > val):\n",
        "                    dist[k] = val\n",
        "                    dad[k] = src\n",
        " \n",
        "            if (dist[k] < dist[best]):\n",
        "                best = k\n",
        "\n",
        "        src = best\n",
        " \n",
        "    for k in range(N):\n",
        "        pi[k] = min(pi[k] + dist[k], INF)\n",
        "\n",
        "    return found[sink]"
      ],
      "metadata": {
        "id": "Zv7jKfhMoST0"
      },
      "execution_count": null,
      "outputs": []
    },
    {
      "cell_type": "code",
      "source": [
        "# Function to obtain the maximum Flow\n",
        "def getMaxFlow(capi: List[List[int]],\n",
        "              costi: List[List[int]],\n",
        "              src: int, sink: int) -> List[int]:\n",
        " \n",
        "    global cap, cost, found, dist, pi, N, flow, dad\n",
        "    cap = capi\n",
        "    cost = costi\n",
        " \n",
        "    N = len(capi)\n",
        "    found = [False for _ in range(N)]\n",
        "    flow = [[0 for _ in range(N)]\n",
        "               for _ in range(N)]\n",
        "    dist = [INF for _ in range(N + 1)]\n",
        "    dad = [0 for _ in range(N)]\n",
        "    pi = [0 for _ in range(N)]\n",
        " \n",
        "    totflow = 0\n",
        "    totcost = 0\n",
        " \n",
        "    while (search(src, sink)):\n",
        "        amt = INF\n",
        "        x = sink\n",
        "         \n",
        "        while x != src:\n",
        "            amt = min(\n",
        "                amt, flow[x][dad[x]] if\n",
        "                (flow[x][dad[x]] != 0) else\n",
        "                  cap[dad[x]][x] - flow[dad[x]][x])\n",
        "            x = dad[x]\n",
        " \n",
        "        x = sink\n",
        "         \n",
        "        while x != src:\n",
        "            if (flow[x][dad[x]] != 0):\n",
        "                flow[x][dad[x]] -= amt\n",
        "                totcost -= amt * cost[x][dad[x]]\n",
        " \n",
        "            else:\n",
        "                flow[dad[x]][x] += amt\n",
        "                totcost += amt * cost[dad[x]][x]\n",
        "                 \n",
        "            x = dad[x]\n",
        " \n",
        "        totflow += amt\n",
        "        \n",
        "    return [totflow, totcost]"
      ],
      "metadata": {
        "id": "qtYmpjZ1oqNL"
      },
      "execution_count": null,
      "outputs": []
    },
    {
      "cell_type": "code",
      "source": [
        "s = 0\n",
        "t = 4\n",
        "\n",
        "cap = [ [ 0, 3, 1, 0, 3 ],\n",
        "        [ 0, 0, 2, 0, 0 ],\n",
        "        [ 0, 0, 0, 1, 6 ],\n",
        "        [ 0, 0, 0, 0, 2 ],\n",
        "        [ 0, 0, 0, 0, 0 ] ]\n",
        "\n",
        "cost = [ [ 0, 1, 0, 0, 2 ],\n",
        "          [ 0, 0, 0, 3, 0 ],\n",
        "          [ 0, 0, 0, 0, 0 ],\n",
        "          [ 0, 0, 0, 0, 1 ],\n",
        "          [ 0, 0, 0, 0, 0 ] ]\n",
        "\n",
        "ret = getMaxFlow(cap, cost, s, t)\n",
        "\n",
        "print(\"The Maximum flow =\",ret[0])\n",
        "print(\"The Minimum cost for the above flow =\",ret[1])"
      ],
      "metadata": {
        "colab": {
          "base_uri": "https://localhost:8080/"
        },
        "id": "Iz8uxViko-93",
        "outputId": "bf7a5f57-ac45-4efe-f2a9-ac0d09c725e5"
      },
      "execution_count": null,
      "outputs": [
        {
          "output_type": "stream",
          "name": "stdout",
          "text": [
            "The Maximum flow = 6\n",
            "The Minimum cost for the above flow = 8\n"
          ]
        }
      ]
    },
    {
      "cell_type": "code",
      "source": [],
      "metadata": {
        "id": "vHG5OY7lseLp"
      },
      "execution_count": null,
      "outputs": []
    }
  ]
}