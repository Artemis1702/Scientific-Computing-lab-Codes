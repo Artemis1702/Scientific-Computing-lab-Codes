{
  "nbformat": 4,
  "nbformat_minor": 0,
  "metadata": {
    "colab": {
      "provenance": []
    },
    "kernelspec": {
      "name": "python3",
      "display_name": "Python 3"
    },
    "language_info": {
      "name": "python"
    }
  },
  "cells": [
    {
      "cell_type": "markdown",
      "source": [
        "**Gauss Jordan Elimination**"
      ],
      "metadata": {
        "id": "QS6t_UqiwLXF"
      }
    },
    {
      "cell_type": "code",
      "source": [
        "import math"
      ],
      "metadata": {
        "id": "6jtDO7OUzSvE"
      },
      "execution_count": null,
      "outputs": []
    },
    {
      "cell_type": "code",
      "source": [
        "def non_zero(row):\n",
        "    for i in range(len(row)):\n",
        "        if row[i] != 0:\n",
        "            return i\n",
        "    return len(row)\n",
        "\n",
        "def getRREF(matrix):\n",
        "    nonZeroIndex = len(matrix[0])\n",
        "\n",
        "    # Sort matrix by leading non zero element\n",
        "    matrix.sort(key = non_zero)\n",
        "    \n",
        "    for i in range(len(matrix)):\n",
        "        # Making the first non-zero element 1\n",
        "        for j in range(len(matrix[0])):\n",
        "            if math.isclose(matrix[i][j], 0.0):\n",
        "                continue\n",
        "            else:\n",
        "                nonZeroIndex = j\n",
        "                matrix[i] = [x / matrix[i][j] for x in matrix[i]]\n",
        "                break\n",
        "        # Making the column of leading 1 0s\n",
        "        for j in range(len(matrix)):\n",
        "            if j == i:\n",
        "                continue\n",
        "            else:\n",
        "                ratio = matrix[j][nonZeroIndex] / matrix[i][nonZeroIndex]\n",
        "                row = [x * ratio for x in matrix[i]]\n",
        "                matrix[j] = [x - y for x, y in zip(matrix[j], row)]\n",
        "\n",
        "    for row in matrix:\n",
        "        print(row)\n",
        "\n",
        "    return matrix\n",
        "        "
      ],
      "metadata": {
        "id": "AVCmTYaOxhmJ"
      },
      "execution_count": null,
      "outputs": []
    },
    {
      "cell_type": "code",
      "source": [
        "lin_sys = [\"1x1 + 1x2 + 2x3 = 8\", \"-1x1 - 2x2 + 3x3 = 1\", \"3x1 - 7x2 + 4x3 = 10\"]\n",
        "matrix = [[1, 1, 2, 8], [-1, -2, 3, 1], [3, -7, 4, 10]]\n",
        "solution = []\n",
        "\n",
        "rref = getRREF(matrix)\n",
        "\n",
        "# Finding the rank of the RREF matrix\n",
        "rank = len(matrix)\n",
        "for row in matrix:\n",
        "    if row == [0] * len(matrix[0]):\n",
        "        rank -= 1\n",
        "\n",
        "# Unique Solution\n",
        "if rank == len(rref):\n",
        "    for i in range(len(rref) - 1, -1, -1):\n",
        "        for j in range(len(rref[0])):\n",
        "            if math.isclose(rref[i][j], 0.0):\n",
        "                continue\n",
        "            else:\n",
        "                solution.append(rref[i][len(rref[0]) - 1])\n",
        "                break\n",
        "    \n",
        "    solution.reverse()\n",
        "    print(\"Unique Solution:\", solution)"
      ],
      "metadata": {
        "colab": {
          "base_uri": "https://localhost:8080/"
        },
        "id": "9yKp6x5mwQhV",
        "outputId": "221f761a-24dd-42f5-8c83-1a67a92443d3"
      },
      "execution_count": null,
      "outputs": [
        {
          "output_type": "stream",
          "name": "stdout",
          "text": [
            "[1.0, 0.0, 0.0, 3.0]\n",
            "[-0.0, 1.0, 0.0, 1.0]\n",
            "[-0.0, -0.0, 1.0, 2.0]\n",
            "Unique Solution: [3.0, 1.0, 2.0]\n"
          ]
        }
      ]
    },
    {
      "cell_type": "markdown",
      "source": [
        "**Gauss-Seidel Method**"
      ],
      "metadata": {
        "id": "BiB3nwg59MTQ"
      }
    },
    {
      "cell_type": "code",
      "source": [
        "def isDDM(m, n) :\n",
        " \n",
        "    # for each row\n",
        "    for i in range(0, n) :        \n",
        "     \n",
        "        # for each column, finding\n",
        "        # sum of each row.\n",
        "        sum = 0\n",
        "        for j in range(0, n) :\n",
        "            sum = sum + abs(m[i][j])    \n",
        " \n",
        "        # removing the\n",
        "        # diagonal element.\n",
        "        sum = sum - abs(m[i][i])\n",
        " \n",
        "        # checking if diagonal\n",
        "        # element is less than\n",
        "        # sum of non-diagonal\n",
        "        # element.\n",
        "        if (abs(m[i][i]) < sum) :\n",
        "            return False\n",
        " \n",
        "    return True"
      ],
      "metadata": {
        "id": "y2j6oeC9zZic"
      },
      "execution_count": null,
      "outputs": []
    },
    {
      "cell_type": "code",
      "source": [
        "matrix = [[1, 1, 2, 8], [-1, -2, 3, 1], [3, -7, 4, 10]]\n",
        "# matrix = [[3, 1, 11], [2, 5, 16]]\n",
        "solution = [0] * (len(matrix[0]) - 1)\n",
        "\n",
        "for i in range(50):\n",
        "    for j in range(len(matrix)):\n",
        "        x = matrix[j][len(matrix[0]) - 1]\n",
        "        for k in range(len(matrix[0]) - 1):\n",
        "            if k != j:\n",
        "                x -= matrix[j][k] * solution[k]\n",
        "        solution[j] = x / matrix[j][j]\n",
        "\n",
        "    print(\"Iteration\", i + 1)\n",
        "    print(solution, \"\\n\")"
      ],
      "metadata": {
        "colab": {
          "base_uri": "https://localhost:8080/"
        },
        "id": "EfYM_Xil9RiN",
        "outputId": "320165a7-b1a7-4117-bbf1-2b5fd5436603"
      },
      "execution_count": null,
      "outputs": [
        {
          "output_type": "stream",
          "name": "stdout",
          "text": [
            "Iteration 1\n",
            "[8.0, -4.5, -11.375] \n",
            "\n",
            "Iteration 2\n",
            "[35.25, -35.1875, -85.515625] \n",
            "\n",
            "Iteration 3\n",
            "[214.21875, -235.8828125, -570.958984375] \n",
            "\n",
            "Iteration 4\n",
            "[1385.80078125, -1549.8388671875, -3749.068603515625] \n",
            "\n",
            "Iteration 5\n",
            "[9055.97607421875, -10152.090942382812, -24555.641204833984] \n",
            "\n",
            "Iteration 6\n",
            "[59271.37335205078, -66469.64848327637, -160772.91485977173] \n",
            "\n",
            "Iteration 7\n",
            "[388023.4782028198, -435171.6113910675, -1052565.428586483] \n",
            "\n",
            "Iteration 8\n",
            "[2540310.4685640335, -2849003.8771617413, -6890987.136456072] \n",
            "\n",
            "Iteration 9\n",
            "[16630986.150073886, -18651974.27972105, -45114192.102067254] \n",
            "\n",
            "Iteration 10\n",
            "[108880366.48385556, -122111471.89502865, -295355348.1791918] \n",
            "\n",
            "Iteration 11\n",
            "[712822176.2534122, -799444110.8954939, -1933643823.7571735] \n",
            "\n",
            "Iteration 12\n",
            "[4666731766.409841, -5233831619.340681, -12659254156.153572] \n",
            "\n",
            "Iteration 13\n",
            "[30552339939.647827, -34265051204.55427, -82878094560.20584] \n",
            "\n",
            "Iteration 14\n",
            "[200021240332.96594, -224327762007.29175, -542589513759.985] \n",
            "\n",
            "Iteration 15\n",
            "[1309506789535.2617, -1468637665408.1084, -3552246006613.1357] \n",
            "\n",
            "Iteration 16\n",
            "[8573129678642.38, -9614933849241.393, -23255981495151.723] \n",
            "\n",
            "Iteration 17\n",
            "[56126896839552.836, -62947420662504.5, -152253158789045.0] \n",
            "\n",
            "Iteration 18\n",
            "[367453738240602.5, -412106607303869.25, -996776866462220.6] \n",
            "\n",
            "Iteration 19\n",
            "[2405660340228318.5, -2697995469807491.0, -6525737327334346.0] \n",
            "\n",
            "Iteration 20\n",
            "[1.5749470124476192e+16, -1.7663341053239616e+16, -4.272294943652647e+16] \n",
            "\n",
            "Iteration 21\n",
            "[1.0310923992629258e+17, -1.15639044117936e+17, -2.7970025715110742e+17] \n",
            "\n",
            "Iteration 22\n",
            "[6.750395584201508e+17, -7.570701649367365e+17, -1.831152457454402e+18] \n",
            "\n",
            "Iteration 23\n",
            "[4.419375079845541e+18, -4.956416226104373e+18, -1.198825970556681e+19] \n",
            "\n",
            "Iteration 24\n",
            "[2.8932935637237993e+19, -3.244885737696921e+19, -7.848520213762463e+19] \n",
            "\n",
            "Iteration 25\n",
            "[1.8941926165221848e+20, -2.124374340325462e+20, -5.138299557961197e+20] \n",
            "\n",
            "Iteration 26\n",
            "[1.2400973456247856e+21, -1.3907936065065724e+21, -3.363961820605091e+21] \n",
            "\n",
            "Iteration 27\n",
            "[8.118717247716755e+21, -9.105301354766015e+21, -2.2023315306628092e+22] \n",
            "\n",
            "Iteration 28\n",
            "[5.31519319680222e+22, -5.961093894395324e+22, -1.4418309212793483e+23] \n",
            "\n",
            "Iteration 29\n",
            "[3.479771231998229e+23, -3.902631997918137e+23, -9.439434420355411e+23] \n",
            "\n",
            "Iteration 30\n",
            "[2.278150083862896e+24, -2.5549902049847596e+24, -6.179845421620501e+24] \n",
            "\n",
            "Iteration 31\n",
            "[1.4914681048225761e+25, -1.672710865654363e+25, -4.045845093512067e+25] \n",
            "\n",
            "Iteration 32\n",
            "[9.764401052678498e+25, -1.095096816660735e+26, -2.6487495081071734e+26] \n",
            "\n",
            "Iteration 33\n",
            "[6.392595832875082e+26, -7.169422178598302e+26, -1.734093568720334e+27] \n",
            "\n",
            "Iteration 34\n",
            "[4.185129355300498e+27, -4.69370503073075e+27, -1.1352830820254187e+28] \n",
            "\n",
            "Iteration 35\n",
            "[2.7399366671239123e+28, -3.072892956600084e+28, -7.432515174393081e+28] \n",
            "\n",
            "Iteration 36\n",
            "[1.7937923305386246e+29, -2.0117734414282747e+29, -4.86594777040345e+29] \n",
            "\n",
            "Iteration 37\n",
            "[1.1743668982235174e+30, -1.317075614672276e+30, -3.1856574993441214e+30] \n",
            "\n",
            "Iteration 38\n",
            "[7.688390613360519e+30, -8.622681555696442e+30, -2.0855985682489165e+31] \n",
            "\n",
            "Iteration 39\n",
            "[5.033465292067477e+31, -5.645130498407113e+31, -1.3654077341263054e+32] \n",
            "\n",
            "Iteration 40\n",
            "[3.295328518093322e+32, -3.695775860236119e+32, -8.9391041439832e+32] \n",
            "\n",
            "Iteration 41\n",
            "[2.157398414820252e+33, -2.419564829007606e+33, -5.852287261878499e+33] \n",
            "\n",
            "Iteration 42\n",
            "[1.4124139352764604e+34, -1.584050056920005e+34, -3.831398051067354e+34] \n",
            "\n",
            "Iteration 43\n",
            "[9.246846159054713e+34, -1.0370520156128389e+35, -2.5083544892515718e+35] \n",
            "\n",
            "Iteration 44\n",
            "[6.0537609941159825e+35, -6.789412230935348e+35, -1.6421792149723847e+36] \n",
            "\n",
            "Iteration 45\n",
            "[3.9632996530383045e+36, -4.4449186489777294e+36, -1.0751082375489755e+37] \n",
            "\n",
            "Iteration 46\n",
            "[2.594708339995724e+37, -2.9100165263213255e+37, -7.038560176059113e+37] \n",
            "\n",
            "Iteration 47\n",
            "[1.6987136878439552e+38, -1.9051408703308445e+38, -4.608031788961944e+38] \n",
            "\n",
            "Iteration 48\n",
            "[1.1121204448254733e+39, -1.2472649907570282e+39, -3.016804067443904e+39] \n",
            "\n",
            "Iteration 49\n",
            "[7.280873125644836e+39, -8.165642663988275e+39, -1.9750529506213108e+40] \n",
            "\n",
            "Iteration 50\n",
            "[4.766670167641449e+40, -5.34591450975269e+40, -1.2930353017798294e+41] \n",
            "\n"
          ]
        }
      ]
    },
    {
      "cell_type": "markdown",
      "source": [
        "**Gauss Jacobi Method**"
      ],
      "metadata": {
        "id": "nMUZxr-gD6ZN"
      }
    },
    {
      "cell_type": "code",
      "source": [
        "# matrix = [[1, 1, 2, 8], [-1, -2, 3, 1], [3, -7, 4, 10]]\n",
        "matrix = [[3, 1, 11], [2, 5, 16]]\n",
        "solution = [0] * (len(matrix[0]) - 1)\n",
        "\n",
        "for i in range(50):\n",
        "    for j in range(len(matrix)):\n",
        "        temp = solution\n",
        "        x = matrix[j][len(matrix[0]) - 1]\n",
        "        for k in range(len(matrix[0]) - 1):\n",
        "            if k != j:\n",
        "                x -= matrix[j][k] * temp[k]\n",
        "        solution[j] = x / matrix[j][j]\n",
        "\n",
        "    print(\"Iteration\", i + 1)\n",
        "    print(solution, \"\\n\")"
      ],
      "metadata": {
        "colab": {
          "base_uri": "https://localhost:8080/"
        },
        "id": "LID_topoD8yb",
        "outputId": "b5da2b39-c075-47f6-a21f-5c4f3e4ea4f5"
      },
      "execution_count": null,
      "outputs": [
        {
          "output_type": "stream",
          "name": "stdout",
          "text": [
            "Iteration 1\n",
            "[3.6666666666666665, 1.7333333333333336] \n",
            "\n",
            "Iteration 2\n",
            "[3.0888888888888886, 1.9644444444444447] \n",
            "\n",
            "Iteration 3\n",
            "[3.011851851851852, 1.9952592592592595] \n",
            "\n",
            "Iteration 4\n",
            "[3.00158024691358, 1.999367901234568] \n",
            "\n",
            "Iteration 5\n",
            "[3.0002106995884774, 1.9999157201646092] \n",
            "\n",
            "Iteration 6\n",
            "[3.000028093278464, 1.9999887626886141] \n",
            "\n",
            "Iteration 7\n",
            "[3.000003745770462, 1.9999985016918154] \n",
            "\n",
            "Iteration 8\n",
            "[3.000000499436062, 1.999999800225575] \n",
            "\n",
            "Iteration 9\n",
            "[3.000000066591475, 1.9999999733634097] \n",
            "\n",
            "Iteration 10\n",
            "[3.0000000088788634, 1.9999999964484545] \n",
            "\n",
            "Iteration 11\n",
            "[3.000000001183848, 1.999999999526461] \n",
            "\n",
            "Iteration 12\n",
            "[3.0000000001578466, 1.9999999999368612] \n",
            "\n",
            "Iteration 13\n",
            "[3.0000000000210463, 1.9999999999915814] \n",
            "\n",
            "Iteration 14\n",
            "[3.000000000002806, 1.9999999999988773] \n",
            "\n",
            "Iteration 15\n",
            "[3.0000000000003744, 1.9999999999998501] \n",
            "\n",
            "Iteration 16\n",
            "[3.0000000000000497, 1.99999999999998] \n",
            "\n",
            "Iteration 17\n",
            "[3.0000000000000067, 1.9999999999999971] \n",
            "\n",
            "Iteration 18\n",
            "[3.0000000000000013, 1.9999999999999993] \n",
            "\n",
            "Iteration 19\n",
            "[3.0, 2.0] \n",
            "\n",
            "Iteration 20\n",
            "[3.0, 2.0] \n",
            "\n",
            "Iteration 21\n",
            "[3.0, 2.0] \n",
            "\n",
            "Iteration 22\n",
            "[3.0, 2.0] \n",
            "\n",
            "Iteration 23\n",
            "[3.0, 2.0] \n",
            "\n",
            "Iteration 24\n",
            "[3.0, 2.0] \n",
            "\n",
            "Iteration 25\n",
            "[3.0, 2.0] \n",
            "\n",
            "Iteration 26\n",
            "[3.0, 2.0] \n",
            "\n",
            "Iteration 27\n",
            "[3.0, 2.0] \n",
            "\n",
            "Iteration 28\n",
            "[3.0, 2.0] \n",
            "\n",
            "Iteration 29\n",
            "[3.0, 2.0] \n",
            "\n",
            "Iteration 30\n",
            "[3.0, 2.0] \n",
            "\n",
            "Iteration 31\n",
            "[3.0, 2.0] \n",
            "\n",
            "Iteration 32\n",
            "[3.0, 2.0] \n",
            "\n",
            "Iteration 33\n",
            "[3.0, 2.0] \n",
            "\n",
            "Iteration 34\n",
            "[3.0, 2.0] \n",
            "\n",
            "Iteration 35\n",
            "[3.0, 2.0] \n",
            "\n",
            "Iteration 36\n",
            "[3.0, 2.0] \n",
            "\n",
            "Iteration 37\n",
            "[3.0, 2.0] \n",
            "\n",
            "Iteration 38\n",
            "[3.0, 2.0] \n",
            "\n",
            "Iteration 39\n",
            "[3.0, 2.0] \n",
            "\n",
            "Iteration 40\n",
            "[3.0, 2.0] \n",
            "\n",
            "Iteration 41\n",
            "[3.0, 2.0] \n",
            "\n",
            "Iteration 42\n",
            "[3.0, 2.0] \n",
            "\n",
            "Iteration 43\n",
            "[3.0, 2.0] \n",
            "\n",
            "Iteration 44\n",
            "[3.0, 2.0] \n",
            "\n",
            "Iteration 45\n",
            "[3.0, 2.0] \n",
            "\n",
            "Iteration 46\n",
            "[3.0, 2.0] \n",
            "\n",
            "Iteration 47\n",
            "[3.0, 2.0] \n",
            "\n",
            "Iteration 48\n",
            "[3.0, 2.0] \n",
            "\n",
            "Iteration 49\n",
            "[3.0, 2.0] \n",
            "\n",
            "Iteration 50\n",
            "[3.0, 2.0] \n",
            "\n"
          ]
        }
      ]
    },
    {
      "cell_type": "markdown",
      "source": [
        "**Dominant Eigen Vector**(Power Method)"
      ],
      "metadata": {
        "id": "cKVmkZXphPHN"
      }
    },
    {
      "cell_type": "code",
      "source": [
        "import numpy as np"
      ],
      "metadata": {
        "id": "b4MbLvShkrHP"
      },
      "execution_count": null,
      "outputs": []
    },
    {
      "cell_type": "code",
      "source": [
        "def normalize(x):\n",
        "    max = abs(x).max()\n",
        "    newX = x / x.max()\n",
        "    return max, newX"
      ],
      "metadata": {
        "id": "DGaBGAQDkbMS"
      },
      "execution_count": null,
      "outputs": []
    },
    {
      "cell_type": "code",
      "source": [
        "matrix = np.array([[2, 1], [0, -4]])\n",
        "\n",
        "order = len(matrix)\n",
        "x = np.ones((order, 1), dtype = int)\n",
        "\n",
        "for i in range(10):\n",
        "    x = np.dot(matrix, x)\n",
        "    e, x = normalize(x)\n",
        "\n",
        "print(\"Dominant Eigenvalue:\", e)\n",
        "print(\"Corresponding Eigenvector:\\n\", x)"
      ],
      "metadata": {
        "colab": {
          "base_uri": "https://localhost:8080/"
        },
        "id": "doUbh9h9ktWq",
        "outputId": "8fbe881d-c44c-4903-89ea-dbaff526a52f"
      },
      "execution_count": null,
      "outputs": [
        {
          "output_type": "stream",
          "name": "stdout",
          "text": [
            "Dominant Eigenvalue: 23.67630057803468\n",
            "Corresponding Eigenvector:\n",
            " [[-0.16552734]\n",
            " [ 1.        ]]\n"
          ]
        }
      ]
    },
    {
      "cell_type": "markdown",
      "source": [
        "**Smallest Eigenvector**(Inverse Power Method)"
      ],
      "metadata": {
        "id": "1SxtttFOlcb5"
      }
    },
    {
      "cell_type": "code",
      "source": [
        "matrix = np.array([[10, -8, -4], [-8, 13, 4], [-4, 5, 4]])\n",
        "matrix = np.linalg.inv(matrix)\n",
        "\n",
        "order = len(matrix)\n",
        "x = np.ones((order, 1), dtype = int)\n",
        "\n",
        "for i in range(10):\n",
        "    x = np.dot(matrix, x)\n",
        "    e, x = normalize(x)\n",
        "\n",
        "print(\"Smallest Eigenvalue:\", 1 / e)"
      ],
      "metadata": {
        "colab": {
          "base_uri": "https://localhost:8080/"
        },
        "id": "ehPqjpZXlikY",
        "outputId": "9ac29217-f4a7-4797-80be-815ef14ad2c2"
      },
      "execution_count": null,
      "outputs": [
        {
          "output_type": "stream",
          "name": "stdout",
          "text": [
            "Smallest Eigenvalue: 2.000903659674103\n"
          ]
        }
      ]
    },
    {
      "cell_type": "markdown",
      "source": [
        "**Bisection Method**"
      ],
      "metadata": {
        "id": "iKNjlwXtlSIj"
      }
    },
    {
      "cell_type": "code",
      "source": [
        "from sympy import *\n",
        "x = symbols('x')\n",
        "\n",
        "f = 3*x + cos(x) - x\n",
        "limit = [-1, 0]"
      ],
      "metadata": {
        "id": "k3BstbdSlY2j"
      },
      "execution_count": null,
      "outputs": []
    },
    {
      "cell_type": "code",
      "source": [
        "a = limit[0]\n",
        "b = limit[1]\n",
        "t = float(a + b) / 2\n",
        "\n",
        "while f.subs(x, t) > 0.00001 or f.subs(x, t) < -0.00001:\n",
        "    if f.subs(x, t) * f.subs(x, a) < 0:\n",
        "        b = t\n",
        "    elif f.subs(x, t) * f.subs(x, b) < 0:\n",
        "        a = t\n",
        "    else:\n",
        "        print(\"t NOT FOUND!\")\n",
        "        break\n",
        "    t = float(a + b) / 2\n",
        "\n",
        "print(t)"
      ],
      "metadata": {
        "colab": {
          "base_uri": "https://localhost:8080/"
        },
        "id": "Ki-V59T1mL08",
        "outputId": "3c40f808-61f7-454c-c7fe-5cb022ec9685"
      },
      "execution_count": null,
      "outputs": [
        {
          "output_type": "stream",
          "name": "stdout",
          "text": [
            "-0.4501800537109375\n"
          ]
        }
      ]
    },
    {
      "cell_type": "markdown",
      "source": [
        "**Regula Falsi Method**"
      ],
      "metadata": {
        "id": "2QuFFe_snpvq"
      }
    },
    {
      "cell_type": "code",
      "source": [
        "a = limit[0]\n",
        "b = limit[1]\n",
        "t = float(a + b) / 2\n",
        "\n",
        "if f.subs(x, a) < 0:\n",
        "    pass\n",
        "else:\n",
        "    temp = b\n",
        "    b = a\n",
        "    a = temp\n",
        "\n",
        "h = float(abs(f.subs(x, a)) * (b - a)) / float(abs(f.subs(x, a)) + abs(f.subs(x, b)))\n",
        "t = float(a + h)\n",
        "\n",
        "while f.subs(x, t) > 0.00001 or f.subs(x, t) < -0.00001:\n",
        "    # print(\"t =\", t, \"\\nf(t) =\", f.subs(x, t), end = \"\\n\\n\")\n",
        "    if f.subs(x, t) < 0:\n",
        "        a = t\n",
        "    else:\n",
        "        b = t\n",
        "\n",
        "    h = float(abs(f.subs(x, a)) * (b - a)) / float(abs(f.subs(x, a)) + abs(f.subs(x, b)))\n",
        "    t = a + h\n",
        "\n",
        "print(\"SOLUTION\\nx = {x}\\nf(x) = {fx}\".format(x = t, fx = f.subs(x, t)))"
      ],
      "metadata": {
        "colab": {
          "base_uri": "https://localhost:8080/"
        },
        "id": "SBfUAkownuPG",
        "outputId": "377351e8-da6e-48ef-c2b4-c58f5a7333df"
      },
      "execution_count": null,
      "outputs": [
        {
          "output_type": "stream",
          "name": "stdout",
          "text": [
            "SOLUTION\n",
            "x = -0.45018152614723994\n",
            "f(x) = 0.00000507760539103508\n"
          ]
        }
      ]
    },
    {
      "cell_type": "markdown",
      "source": [
        "**Newton Raphson Method**"
      ],
      "metadata": {
        "id": "77sZGN5Jq-_D"
      }
    },
    {
      "cell_type": "code",
      "source": [
        "a = limit[0]\n",
        "b = limit[1]\n",
        "t = float(a + b) / 2\n",
        "\n",
        "if f.subs(x, a) < 0:\n",
        "    pass\n",
        "else:\n",
        "    temp = b\n",
        "    b = a\n",
        "    a = temp\n",
        "\n",
        "while f.subs(x, t) > 0.001 or f.subs(x, t) < -0.001:\n",
        "    # print(\"t =\", t, \"\\nf(t) =\", f.subs(x, t), end = \"\\n\\n\")\n",
        "    t = t - f.subs(x, t) / diff(f, x).subs(x, t)\n",
        "\n",
        "print(\"SOLUTION\\nx = {x}\\nf(x) = {fx}\".format(x = t, fx = f.subs(x, t)))"
      ],
      "metadata": {
        "colab": {
          "base_uri": "https://localhost:8080/"
        },
        "id": "UY_sG16yrD2y",
        "outputId": "7c2ff11e-d15e-44a6-fca8-1876112212f0"
      },
      "execution_count": null,
      "outputs": [
        {
          "output_type": "stream",
          "name": "stdout",
          "text": [
            "SOLUTION\n",
            "x = -0.450183647577775\n",
            "f(x) = -8.83536128704066E-8\n"
          ]
        }
      ]
    },
    {
      "cell_type": "markdown",
      "source": [
        "**Fixed Point Iteration Method**"
      ],
      "metadata": {
        "id": "Lz-vibEQrYQC"
      }
    },
    {
      "cell_type": "code",
      "source": [
        "a = limit[0]\n",
        "b = limit[1]\n",
        "t = float(a + b) / 2\n",
        "\n",
        "if f.subs(x, a) < 0:\n",
        "    pass\n",
        "else:\n",
        "    temp = b\n",
        "    b = a\n",
        "    a = temp\n",
        "\n",
        "phi = -(f - f.coeff(x, 1) * x) / f.coeff(x, 1)\n",
        "\n",
        "if diff(phi, x).subs(x, a) < 1 and diff(phi, x).subs(x, b) < 1:\n",
        "    t = float(a)\n",
        "\n",
        "    while f.subs(x, t) > 0.0001 or f.subs(x, t) < -0.0001:\n",
        "        # print(\"t =\", t, \"\\nf(t) =\", f.subs(x, t), end = \"\\n\\n\")\n",
        "        t = phi.subs(x, t)\n",
        "\n",
        "    print(\"SOLUTION\\nx = {x}\\nf(x) = {fx}\".format(x = t, fx = f.subs(x, t)))\n",
        "else:\n",
        "    print(\"Cannot use Fixed Point Iteration Method\")"
      ],
      "metadata": {
        "colab": {
          "base_uri": "https://localhost:8080/"
        },
        "id": "lmSvTYKbrdIR",
        "outputId": "80194787-47fc-4525-fc31-bb336d922a7e"
      },
      "execution_count": null,
      "outputs": [
        {
          "output_type": "stream",
          "name": "stdout",
          "text": [
            "SOLUTION\n",
            "x = -0.450167760485885\n",
            "f(x) = 0.0000385986810012007\n"
          ]
        }
      ]
    },
    {
      "cell_type": "code",
      "source": [],
      "metadata": {
        "id": "EC2rtTXAsOUG"
      },
      "execution_count": null,
      "outputs": []
    }
  ]
}