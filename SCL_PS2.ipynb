{
  "nbformat": 4,
  "nbformat_minor": 0,
  "metadata": {
    "colab": {
      "provenance": []
    },
    "kernelspec": {
      "name": "python3",
      "display_name": "Python 3"
    },
    "language_info": {
      "name": "python"
    }
  },
  "cells": [
    {
      "cell_type": "markdown",
      "source": [
        "**1. Eigen Values and Eigen Vectors**"
      ],
      "metadata": {
        "id": "k7g4C6xi4XqT"
      }
    },
    {
      "cell_type": "code",
      "source": [
        "import numpy as np\n",
        "from sympy import *\n",
        "from fractions import Fraction\n",
        "from math import gcd\n",
        "from sklearn.preprocessing import normalize"
      ],
      "metadata": {
        "id": "KaKur1Cr58mP"
      },
      "execution_count": null,
      "outputs": []
    },
    {
      "cell_type": "code",
      "source": [
        "matrix = np.array([[4, 0, 1], [-2, 1, 0], [-2, 0, 1]])\n",
        "# matrix = np.array([[-5, 2], [-7, 4]])\n",
        "\n",
        "l = symbols('lambda')\n",
        "order = len(matrix)\n",
        "I = np.identity(order, dtype = int)\n",
        "lI = I * l\n",
        "expr = Matrix(lI - matrix).det()\n",
        "eigValues = solve(expr)\n",
        "\n",
        "eigVectors = []\n",
        "zeros = np.zeros((order, 1), dtype = int)\n",
        "for e in eigValues:\n",
        "  m = (e * I) - matrix\n",
        "  m = Matrix(m)\n",
        "  aug = m.rref()[0]\n",
        "  vec, params = aug.gauss_jordan_solve(Matrix([0] * order))\n",
        "  taus_ones = {tau:1 for tau in params}\n",
        "  vec = vec.xreplace(taus_ones)\n",
        "  eigVectors.append(np.array(vec))\n",
        "\n",
        "for i in range(len(eigValues)):\n",
        "  lcm = 1\n",
        "  denominators = [Fraction(x).denominator() for x in eigVectors[i].flatten()]\n",
        "  for j in denominators:\n",
        "    lcm = lcm * j // gcd(lcm, j)\n",
        "  eigVectors[i] = eigVectors[i] * lcm\n",
        "\n",
        "for i in range(len(eigValues)):\n",
        "  print(\"Eigen Value:\\n\", eigValues[i], \"\\n\", \"Eigen Vector:\\n\", eigVectors[i], \"\\n\", sep = \"\")"
      ],
      "metadata": {
        "colab": {
          "base_uri": "https://localhost:8080/"
        },
        "id": "4dpjDXjK4d_a",
        "outputId": "d544ba26-cb0a-48b6-d7fe-6bbf6f006185"
      },
      "execution_count": null,
      "outputs": [
        {
          "output_type": "stream",
          "name": "stdout",
          "text": [
            "Eigen Value:\n",
            "1\n",
            "Eigen Vector:\n",
            "[[0]\n",
            " [1]\n",
            " [0]]\n",
            "\n",
            "Eigen Value:\n",
            "2\n",
            "Eigen Vector:\n",
            "[[-1]\n",
            " [2]\n",
            " [2]]\n",
            "\n",
            "Eigen Value:\n",
            "3\n",
            "Eigen Vector:\n",
            "[[-1]\n",
            " [1]\n",
            " [1]]\n",
            "\n"
          ]
        }
      ]
    },
    {
      "cell_type": "markdown",
      "source": [
        "**2. Diagonalize the Matrix**"
      ],
      "metadata": {
        "id": "Uq-tRnSjXmbn"
      }
    },
    {
      "cell_type": "code",
      "source": [
        "def eigenValues(matrix):\n",
        "  l = symbols('lambda')\n",
        "  order = len(matrix)\n",
        "  I = np.identity(order, dtype = int)\n",
        "  lI = I * l\n",
        "  expr = Matrix(lI - matrix).det()\n",
        "  eigValues = solve(expr)\n",
        "\n",
        "  return eigValues"
      ],
      "metadata": {
        "id": "D5TQijF-YrzZ"
      },
      "execution_count": null,
      "outputs": []
    },
    {
      "cell_type": "code",
      "source": [
        "def eigenVectors(matrix, eigValues):\n",
        "  eigVectors = []\n",
        "  order = len(matrix)\n",
        "  I = np.identity(order, dtype = int)\n",
        "  zeros = np.zeros((order, 1), dtype = int)\n",
        "\n",
        "  for e in eigValues:\n",
        "    m = (e * I) - matrix\n",
        "    m = Matrix(m)\n",
        "    aug = m.rref()[0]\n",
        "    vec, params = aug.gauss_jordan_solve(Matrix([0] * order))\n",
        "    taus_ones = {tau:1 for tau in params}\n",
        "    vec = vec.xreplace(taus_ones)\n",
        "    eigVectors.append(np.array(vec))\n",
        "\n",
        "  for i in range(len(eigValues)):\n",
        "    lcm = 1\n",
        "    denominators = [Fraction(x).denominator() for x in eigVectors[i].flatten()]\n",
        "    for j in denominators:\n",
        "      lcm = lcm * j // gcd(lcm, j)\n",
        "    eigVectors[i] = eigVectors[i] * lcm\n",
        "\n",
        "  return eigVectors"
      ],
      "metadata": {
        "id": "ufjFlRHiY12Z"
      },
      "execution_count": null,
      "outputs": []
    },
    {
      "cell_type": "code",
      "source": [
        "matrix = np.array([[5, -3], [6, -4]])\n",
        "eValues = eigenValues(matrix)\n",
        "eVectors = eigenVectors(matrix, eValues)\n",
        "\n",
        "P = Matrix(eVectors[0])\n",
        "for i in range(1, len(eVectors)):\n",
        "  P = P.col_insert(i, Matrix(eVectors[i]))\n",
        "  \n",
        "D = P.inv() * matrix * P\n",
        "D = np.array(D)\n",
        "\n",
        "print(\"The diagonal matrix is:\\n\", D)\n",
        "\n",
        "# OR\n",
        "# D2 = []\n",
        "# for i in range(len(eValues)):\n",
        "#   l = []\n",
        "#   for j in range(len(eValues)):\n",
        "#     if i == j:\n",
        "#       l.append(eValues[i])\n",
        "#     else:\n",
        "#       l.append(0)\n",
        "#   D2.append(l)\n",
        "# D2 = np.array(D2)\n",
        "\n",
        "# print(D2)"
      ],
      "metadata": {
        "colab": {
          "base_uri": "https://localhost:8080/"
        },
        "id": "JWvsHSKvXtvu",
        "outputId": "daadda5d-19c2-4a5f-a6a8-9a6463fccd48"
      },
      "execution_count": null,
      "outputs": [
        {
          "output_type": "stream",
          "name": "stdout",
          "text": [
            "The diagonal matrix is:\n",
            " [[-1 0]\n",
            " [0 2]]\n"
          ]
        }
      ]
    },
    {
      "cell_type": "markdown",
      "source": [
        "**3. Quadratic Form to Canonical Form**\n",
        "(Orthogonal Diagonalization)"
      ],
      "metadata": {
        "id": "NE2G6ibJiBwb"
      }
    },
    {
      "cell_type": "code",
      "source": [
        "# matrix = np.array([[1, -1, 0], [-1, 2, 1], [0, 1, 1]])\n",
        "matrix = np.array([[0, 3], [3, 0]])\n",
        "\n",
        "eValues = eigenValues(matrix)\n",
        "eVectors = eigenVectors(matrix, eValues)\n",
        "\n",
        "P = Matrix(eVectors[0])\n",
        "for i in range(1, len(eVectors)):\n",
        "  P = P.col_insert(i, Matrix(eVectors[i]))\n",
        "  \n",
        "D = P.inv() * matrix * P\n",
        "\n",
        "x = Symbol('x')\n",
        "y = Symbol('y')\n",
        "z = Symbol('z')\n",
        "# X = Matrix([[x, y, z]])\n",
        "X = Matrix([[x, y]])\n",
        "canonical = X * D * transpose(X)\n",
        "print(np.array(canonical))"
      ],
      "metadata": {
        "colab": {
          "base_uri": "https://localhost:8080/"
        },
        "id": "61i44BwLiIPs",
        "outputId": "a462cf1a-c189-4417-9a23-e759420449ed"
      },
      "execution_count": null,
      "outputs": [
        {
          "output_type": "stream",
          "name": "stdout",
          "text": [
            "[[-3*x**2 + 3*y**2]]\n"
          ]
        }
      ]
    },
    {
      "cell_type": "markdown",
      "source": [
        "**4. Check Diagonizability**"
      ],
      "metadata": {
        "id": "TE2n7CPGq_9x"
      }
    },
    {
      "cell_type": "code",
      "source": [
        "matrix = np.array([[-10, 11, -6], [-15, 16, -10], [-3, 3, -2]])\n",
        "order = len(matrix)\n",
        "\n",
        "eValues = set(eigenValues(matrix))\n",
        "\n",
        "if len(eValues) == order:\n",
        "  print(\"Diagonizable\")\n",
        "else:\n",
        "  print(\"Not Diagonizable\")"
      ],
      "metadata": {
        "colab": {
          "base_uri": "https://localhost:8080/"
        },
        "id": "fRdTMe0hrJSp",
        "outputId": "13ef6842-7b2e-4b42-dad7-86108e171ae1"
      },
      "execution_count": null,
      "outputs": [
        {
          "output_type": "stream",
          "name": "stdout",
          "text": [
            "Not Diagonizable\n"
          ]
        }
      ]
    },
    {
      "cell_type": "markdown",
      "source": [
        "**5. Find Dominant Eigen Vector**"
      ],
      "metadata": {
        "id": "kQ9ddhObtQ2G"
      }
    },
    {
      "cell_type": "code",
      "source": [
        "def normalize(x):\n",
        "  max = abs(x).max()\n",
        "  newX = x / x.max()\n",
        "#   print(max, newX)\n",
        "\n",
        "  return max, newX"
      ],
      "metadata": {
        "id": "6Hc-r157vfco"
      },
      "execution_count": null,
      "outputs": []
    },
    {
      "cell_type": "code",
      "source": [
        "# matrix = np.array([[2, 3], [4, 10]])\n",
        "matrix = np.array([[2, 1], [0, -4]])\n",
        "\n",
        "order = len(matrix)\n",
        "x = np.ones((order, 1), dtype = int)\n",
        "\n",
        "for i in range(8):\n",
        "  x = np.dot(matrix, x)\n",
        "  l, x = normalize(x)\n",
        "\n",
        "print(\"Eigenvalue:\", l)\n",
        "print(\"Eigenvector:\", x)"
      ],
      "metadata": {
        "colab": {
          "base_uri": "https://localhost:8080/"
        },
        "id": "BGvRrRS8tbM2",
        "outputId": "95f8060d-53a5-4e7f-bcd6-ac47c08fb6b6"
      },
      "execution_count": null,
      "outputs": [
        {
          "output_type": "stream",
          "name": "stdout",
          "text": [
            "Eigenvalue: 22.755555555555556\n",
            "Eigenvector: [[-0.16210938]\n",
            " [ 1.        ]]\n"
          ]
        }
      ]
    },
    {
      "cell_type": "markdown",
      "source": [
        "**6. Smallest Eigen Vector**"
      ],
      "metadata": {
        "id": "L7Ubge7s-oWZ"
      }
    },
    {
      "cell_type": "code",
      "source": [
        "matrix = [[10, -8, -4], [-8, 13, 4], [-4, 5, 4]]\n",
        "eValues = eigenValues(matrix)\n",
        "# minE = min(eValues)\n",
        "minE = 1.9\n",
        "\n",
        "order = len(matrix)\n",
        "I = np.identity(order, dtype = int)\n",
        "lI = I * minE\n",
        "x = np.ones((order, 1), dtype = int)\n",
        "mu = 0\n",
        "v = 0\n",
        "\n",
        "for i in range(5):\n",
        "    y = np.linalg.inv(matrix - lI) * x\n",
        "    mu = np.amax(y)\n",
        "    v = minE + 1 / mu\n",
        "    x = (1 / mu) * y\n",
        "\n",
        "print(v)"
      ],
      "metadata": {
        "colab": {
          "base_uri": "https://localhost:8080/"
        },
        "id": "cixWtZad_RYC",
        "outputId": "a4b4177d-a344-4d5f-af9a-e354297f7adb"
      },
      "execution_count": null,
      "outputs": [
        {
          "output_type": "stream",
          "name": "stdout",
          "text": [
            "2.008490930142802\n"
          ]
        }
      ]
    }
  ]
}